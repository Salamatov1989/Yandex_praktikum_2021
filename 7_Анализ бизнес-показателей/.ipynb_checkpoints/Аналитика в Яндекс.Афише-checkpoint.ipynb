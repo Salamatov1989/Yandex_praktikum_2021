{
 "cells": [
  {
   "cell_type": "markdown",
   "metadata": {},
   "source": [
    "# Аналитика в Яндекс.Афише"
   ]
  },
  {
   "cell_type": "markdown",
   "metadata": {},
   "source": [
    "## Описание проекта:\n",
    "Нам необходимо провести анализ, чтобы корректно оптимизировать маркетинговые затраты.\n",
    "У нас в распоряжении есть данные от Яндекс.Афиши с июня 2017 по конец мая 2018 года:\n",
    "\n",
    "- Таблица visits: лог сервера с данными о посещениях сайта Яндекс.Афиши,\n",
    "- Таблица orders: выгрузка всех заказов за этот период,\n",
    "- Таблица costs: статистика рекламных расходов.\n",
    "\n",
    "#### Нам необходимо изучить:\n",
    "\n",
    "- как люди пользуются продуктом,\n",
    "- когда они начинают покупать,\n",
    "- сколько денег приносит каждый клиент\n",
    "- когда клиент окупается.\n",
    "\n",
    "#### Описание данных:\n",
    "\n",
    "Таблица visits (лог сервера с информацией о посещениях сайта):\n",
    "\n",
    "- Uid — уникальный идентификатор пользователя\n",
    "- Device — категория устройства пользователя\n",
    "- Start Ts — дата и время начала сессии\n",
    "- End Ts — дата и время окончания сессии\n",
    "- Source Id — идентификатор рекламного источника, из которого пришел пользователь\n",
    "\n",
    "Таблица orders (информация о заказах):\n",
    "\n",
    "- Uid — уникальный id пользователя, который сделал заказ\n",
    "- Buy Ts — дата и время заказа\n",
    "- Revenue — выручка Яндекс.Афиши с этого заказа\n",
    "\n",
    "Таблица costs (информация о затратах на маркетинг):\n",
    "\n",
    "- source_id — идентификатор рекламного источника\n",
    "- dt — дата\n",
    "- costs — затраты на этот рекламный источник в этот день"
   ]
  },
  {
   "cell_type": "markdown",
   "metadata": {},
   "source": [
    "## Оглавление:\n",
    "I.   [Открытие и предобработка данных](#start)\n",
    " * [Первые выводы](#start_conc)\n",
    " * [Выводы по продуктовым метрикам](#prod_conc)\n",
    " * [Метрики продаж](#sales)\n",
    " * [Выводы по метрикам продаж](#sales_conc)\n",
    " * [Маркетинговые метрики](#mark)\n",
    " * [Выводы по маркетинговым метрикам](#mark_conc)\n",
    "\n",
    "II.  [Подготовка данных](#second)\n",
    "\n",
    "III. [Формирование отчётов и расчет метрик](#third)\n",
    " * [Продуктовые метрики](#prod)\n",
    "\n",
    "IV. [Общий вывод](#final_conc)"
   ]
  },
  {
   "cell_type": "markdown",
   "metadata": {},
   "source": [
    "## I. Открытие данных  <a id=\"start\"></a>"
   ]
  },
  {
   "cell_type": "markdown",
   "metadata": {},
   "source": [
    "##### Подключим необходимые библиотеки python"
   ]
  },
  {
   "cell_type": "code",
   "execution_count": 2,
   "metadata": {},
   "outputs": [],
   "source": [
    "import pandas as pd\n",
    "from IPython.display import display\n",
    "import seaborn as sns\n",
    "from matplotlib import pyplot as plt\n",
    "import matplotlib.ticker as ticker\n",
    "import numpy as np\n",
    "from IPython.display import display\n",
    "%matplotlib inline\n",
    "import numpy as np\n",
    "from io import BytesIO\n",
    "import requests\n",
    "import warnings\n",
    "\n",
    "warnings.filterwarnings('ignore')\n",
    "pd.set_option('display.max_columns', 30)"
   ]
  },
  {
   "cell_type": "markdown",
   "metadata": {},
   "source": [
    "##### Загрузим данные"
   ]
  },
  {
   "cell_type": "code",
   "execution_count": 3,
   "metadata": {},
   "outputs": [],
   "source": [
    "def data_from_g_sheets(spreadsheet_id):\n",
    "    file_name = 'https://docs.google.com/spreadsheets/d/{}/export?format=csv'.format(spreadsheet_id)\n",
    "    r = requests.get(file_name)\n",
    "    return pd.read_csv(BytesIO(r.content))"
   ]
  },
  {
   "cell_type": "code",
   "execution_count": 4,
   "metadata": {},
   "outputs": [],
   "source": [
    "try:\n",
    "    visits = pd.read_csv('/datasets/visits_log.csv')\n",
    "    orders = pd.read_csv('/datasets/orders_log.csv')\n",
    "    costs = pd.read_csv('/datasets/costs.csv')\n",
    "except:\n",
    "    visits = data_from_g_sheets('19oYw2J-HeD-CIt7aE5iPtUlmWneznF7gmiV8nPEw-EI')\n",
    "    orders = data_from_g_sheets('1Z0T693tDwW_DJ7HhW0YRlfzv3BtPwXl9PzGIHL8dEig')\n",
    "    costs = data_from_g_sheets('1hHxJ9b8pE8WSoAJXtVsCyj3sI-XUHc6lduTZiXiH21Y')"
   ]
  },
  {
   "cell_type": "code",
   "execution_count": 5,
   "metadata": {},
   "outputs": [
    {
     "data": {
      "text/html": [
       "<div>\n",
       "<style scoped>\n",
       "    .dataframe tbody tr th:only-of-type {\n",
       "        vertical-align: middle;\n",
       "    }\n",
       "\n",
       "    .dataframe tbody tr th {\n",
       "        vertical-align: top;\n",
       "    }\n",
       "\n",
       "    .dataframe thead th {\n",
       "        text-align: right;\n",
       "    }\n",
       "</style>\n",
       "<table border=\"1\" class=\"dataframe\">\n",
       "  <thead>\n",
       "    <tr style=\"text-align: right;\">\n",
       "      <th></th>\n",
       "      <th>Device</th>\n",
       "      <th>End Ts</th>\n",
       "      <th>Source Id</th>\n",
       "      <th>Start Ts</th>\n",
       "      <th>Uid</th>\n",
       "    </tr>\n",
       "  </thead>\n",
       "  <tbody>\n",
       "    <tr>\n",
       "      <th>0</th>\n",
       "      <td>touch</td>\n",
       "      <td>2017-12-20 17:38:00</td>\n",
       "      <td>4</td>\n",
       "      <td>2017-12-20 17:20:00</td>\n",
       "      <td>16879256277535980062</td>\n",
       "    </tr>\n",
       "    <tr>\n",
       "      <th>1</th>\n",
       "      <td>desktop</td>\n",
       "      <td>2018-02-19 17:21:00</td>\n",
       "      <td>2</td>\n",
       "      <td>2018-02-19 16:53:00</td>\n",
       "      <td>104060357244891740</td>\n",
       "    </tr>\n",
       "    <tr>\n",
       "      <th>2</th>\n",
       "      <td>touch</td>\n",
       "      <td>2017-07-01 1:54:00</td>\n",
       "      <td>5</td>\n",
       "      <td>2017-07-01 1:54:00</td>\n",
       "      <td>7459035603376831527</td>\n",
       "    </tr>\n",
       "    <tr>\n",
       "      <th>3</th>\n",
       "      <td>desktop</td>\n",
       "      <td>2018-05-20 11:23:00</td>\n",
       "      <td>9</td>\n",
       "      <td>2018-05-20 10:59:00</td>\n",
       "      <td>16174680259334210214</td>\n",
       "    </tr>\n",
       "    <tr>\n",
       "      <th>4</th>\n",
       "      <td>desktop</td>\n",
       "      <td>2017-12-27 14:06:00</td>\n",
       "      <td>3</td>\n",
       "      <td>2017-12-27 14:06:00</td>\n",
       "      <td>9969694820036681168</td>\n",
       "    </tr>\n",
       "  </tbody>\n",
       "</table>\n",
       "</div>"
      ],
      "text/plain": [
       "    Device               End Ts  Source Id             Start Ts  \\\n",
       "0    touch  2017-12-20 17:38:00          4  2017-12-20 17:20:00   \n",
       "1  desktop  2018-02-19 17:21:00          2  2018-02-19 16:53:00   \n",
       "2    touch   2017-07-01 1:54:00          5   2017-07-01 1:54:00   \n",
       "3  desktop  2018-05-20 11:23:00          9  2018-05-20 10:59:00   \n",
       "4  desktop  2017-12-27 14:06:00          3  2017-12-27 14:06:00   \n",
       "\n",
       "                    Uid  \n",
       "0  16879256277535980062  \n",
       "1    104060357244891740  \n",
       "2   7459035603376831527  \n",
       "3  16174680259334210214  \n",
       "4   9969694820036681168  "
      ]
     },
     "metadata": {},
     "output_type": "display_data"
    }
   ],
   "source": [
    "display(visits.head(5))"
   ]
  },
  {
   "cell_type": "code",
   "execution_count": 6,
   "metadata": {},
   "outputs": [
    {
     "name": "stdout",
     "output_type": "stream",
     "text": [
      "<class 'pandas.core.frame.DataFrame'>\n",
      "RangeIndex: 359400 entries, 0 to 359399\n",
      "Data columns (total 5 columns):\n",
      " #   Column     Non-Null Count   Dtype \n",
      "---  ------     --------------   ----- \n",
      " 0   Device     359400 non-null  object\n",
      " 1   End Ts     359400 non-null  object\n",
      " 2   Source Id  359400 non-null  int64 \n",
      " 3   Start Ts   359400 non-null  object\n",
      " 4   Uid        359400 non-null  object\n",
      "dtypes: int64(1), object(4)\n",
      "memory usage: 13.7+ MB\n"
     ]
    }
   ],
   "source": [
    "visits.info()"
   ]
  },
  {
   "cell_type": "code",
   "execution_count": 7,
   "metadata": {},
   "outputs": [
    {
     "data": {
      "text/plain": [
       "Device       0.0\n",
       "End Ts       0.0\n",
       "Source Id    0.0\n",
       "Start Ts     0.0\n",
       "Uid          0.0\n",
       "dtype: float64"
      ]
     },
     "execution_count": 7,
     "metadata": {},
     "output_type": "execute_result"
    }
   ],
   "source": [
    "visits.isna().mean()"
   ]
  },
  {
   "cell_type": "code",
   "execution_count": 8,
   "metadata": {},
   "outputs": [
    {
     "data": {
      "text/html": [
       "<div>\n",
       "<style scoped>\n",
       "    .dataframe tbody tr th:only-of-type {\n",
       "        vertical-align: middle;\n",
       "    }\n",
       "\n",
       "    .dataframe tbody tr th {\n",
       "        vertical-align: top;\n",
       "    }\n",
       "\n",
       "    .dataframe thead th {\n",
       "        text-align: right;\n",
       "    }\n",
       "</style>\n",
       "<table border=\"1\" class=\"dataframe\">\n",
       "  <thead>\n",
       "    <tr style=\"text-align: right;\">\n",
       "      <th></th>\n",
       "      <th>Buy Ts</th>\n",
       "      <th>Revenue</th>\n",
       "      <th>Uid</th>\n",
       "    </tr>\n",
       "  </thead>\n",
       "  <tbody>\n",
       "    <tr>\n",
       "      <th>0</th>\n",
       "      <td>2017-06-01 0:10:00</td>\n",
       "      <td>17.00</td>\n",
       "      <td>10329302124590727494</td>\n",
       "    </tr>\n",
       "    <tr>\n",
       "      <th>1</th>\n",
       "      <td>2017-06-01 0:25:00</td>\n",
       "      <td>0.55</td>\n",
       "      <td>11627257723692907447</td>\n",
       "    </tr>\n",
       "    <tr>\n",
       "      <th>2</th>\n",
       "      <td>2017-06-01 0:27:00</td>\n",
       "      <td>0.37</td>\n",
       "      <td>17903680561304213844</td>\n",
       "    </tr>\n",
       "    <tr>\n",
       "      <th>3</th>\n",
       "      <td>2017-06-01 0:29:00</td>\n",
       "      <td>0.55</td>\n",
       "      <td>16109239769442553005</td>\n",
       "    </tr>\n",
       "    <tr>\n",
       "      <th>4</th>\n",
       "      <td>2017-06-01 7:58:00</td>\n",
       "      <td>0.37</td>\n",
       "      <td>14200605875248379450</td>\n",
       "    </tr>\n",
       "  </tbody>\n",
       "</table>\n",
       "</div>"
      ],
      "text/plain": [
       "               Buy Ts  Revenue                   Uid\n",
       "0  2017-06-01 0:10:00    17.00  10329302124590727494\n",
       "1  2017-06-01 0:25:00     0.55  11627257723692907447\n",
       "2  2017-06-01 0:27:00     0.37  17903680561304213844\n",
       "3  2017-06-01 0:29:00     0.55  16109239769442553005\n",
       "4  2017-06-01 7:58:00     0.37  14200605875248379450"
      ]
     },
     "metadata": {},
     "output_type": "display_data"
    }
   ],
   "source": [
    "display(orders.head(5))"
   ]
  },
  {
   "cell_type": "code",
   "execution_count": 9,
   "metadata": {},
   "outputs": [
    {
     "name": "stdout",
     "output_type": "stream",
     "text": [
      "<class 'pandas.core.frame.DataFrame'>\n",
      "RangeIndex: 50415 entries, 0 to 50414\n",
      "Data columns (total 3 columns):\n",
      " #   Column   Non-Null Count  Dtype  \n",
      "---  ------   --------------  -----  \n",
      " 0   Buy Ts   50415 non-null  object \n",
      " 1   Revenue  50415 non-null  float64\n",
      " 2   Uid      50415 non-null  object \n",
      "dtypes: float64(1), object(2)\n",
      "memory usage: 1.2+ MB\n"
     ]
    }
   ],
   "source": [
    "orders.info()"
   ]
  },
  {
   "cell_type": "code",
   "execution_count": 10,
   "metadata": {},
   "outputs": [
    {
     "data": {
      "text/plain": [
       "Buy Ts     0.0\n",
       "Revenue    0.0\n",
       "Uid        0.0\n",
       "dtype: float64"
      ]
     },
     "execution_count": 10,
     "metadata": {},
     "output_type": "execute_result"
    }
   ],
   "source": [
    "orders.isna().mean()"
   ]
  },
  {
   "cell_type": "code",
   "execution_count": 11,
   "metadata": {},
   "outputs": [
    {
     "data": {
      "text/html": [
       "<div>\n",
       "<style scoped>\n",
       "    .dataframe tbody tr th:only-of-type {\n",
       "        vertical-align: middle;\n",
       "    }\n",
       "\n",
       "    .dataframe tbody tr th {\n",
       "        vertical-align: top;\n",
       "    }\n",
       "\n",
       "    .dataframe thead th {\n",
       "        text-align: right;\n",
       "    }\n",
       "</style>\n",
       "<table border=\"1\" class=\"dataframe\">\n",
       "  <thead>\n",
       "    <tr style=\"text-align: right;\">\n",
       "      <th></th>\n",
       "      <th>source_id</th>\n",
       "      <th>dt</th>\n",
       "      <th>costs</th>\n",
       "    </tr>\n",
       "  </thead>\n",
       "  <tbody>\n",
       "    <tr>\n",
       "      <th>0</th>\n",
       "      <td>1</td>\n",
       "      <td>2017-06-01</td>\n",
       "      <td>75.20</td>\n",
       "    </tr>\n",
       "    <tr>\n",
       "      <th>1</th>\n",
       "      <td>1</td>\n",
       "      <td>2017-06-02</td>\n",
       "      <td>62.25</td>\n",
       "    </tr>\n",
       "    <tr>\n",
       "      <th>2</th>\n",
       "      <td>1</td>\n",
       "      <td>2017-06-03</td>\n",
       "      <td>36.53</td>\n",
       "    </tr>\n",
       "    <tr>\n",
       "      <th>3</th>\n",
       "      <td>1</td>\n",
       "      <td>2017-06-04</td>\n",
       "      <td>55.00</td>\n",
       "    </tr>\n",
       "    <tr>\n",
       "      <th>4</th>\n",
       "      <td>1</td>\n",
       "      <td>2017-06-05</td>\n",
       "      <td>57.08</td>\n",
       "    </tr>\n",
       "  </tbody>\n",
       "</table>\n",
       "</div>"
      ],
      "text/plain": [
       "   source_id          dt  costs\n",
       "0          1  2017-06-01  75.20\n",
       "1          1  2017-06-02  62.25\n",
       "2          1  2017-06-03  36.53\n",
       "3          1  2017-06-04  55.00\n",
       "4          1  2017-06-05  57.08"
      ]
     },
     "metadata": {},
     "output_type": "display_data"
    }
   ],
   "source": [
    "display(costs.head(5))"
   ]
  },
  {
   "cell_type": "code",
   "execution_count": 12,
   "metadata": {},
   "outputs": [
    {
     "name": "stdout",
     "output_type": "stream",
     "text": [
      "<class 'pandas.core.frame.DataFrame'>\n",
      "RangeIndex: 2542 entries, 0 to 2541\n",
      "Data columns (total 3 columns):\n",
      " #   Column     Non-Null Count  Dtype  \n",
      "---  ------     --------------  -----  \n",
      " 0   source_id  2542 non-null   int64  \n",
      " 1   dt         2542 non-null   object \n",
      " 2   costs      2542 non-null   float64\n",
      "dtypes: float64(1), int64(1), object(1)\n",
      "memory usage: 59.7+ KB\n"
     ]
    }
   ],
   "source": [
    "costs.info()"
   ]
  },
  {
   "cell_type": "code",
   "execution_count": 13,
   "metadata": {},
   "outputs": [
    {
     "data": {
      "text/plain": [
       "source_id    0.0\n",
       "dt           0.0\n",
       "costs        0.0\n",
       "dtype: float64"
      ]
     },
     "execution_count": 13,
     "metadata": {},
     "output_type": "execute_result"
    }
   ],
   "source": [
    "costs.isna().mean()"
   ]
  },
  {
   "cell_type": "code",
   "execution_count": 14,
   "metadata": {},
   "outputs": [
    {
     "data": {
      "text/plain": [
       "Index(['Device', 'End Ts', 'Source Id', 'Start Ts', 'Uid'], dtype='object')"
      ]
     },
     "execution_count": 14,
     "metadata": {},
     "output_type": "execute_result"
    }
   ],
   "source": [
    "visits.columns"
   ]
  },
  {
   "cell_type": "markdown",
   "metadata": {},
   "source": [
    "### Вывод: <a id=\"start_conc\"></a>\n",
    "Пропусков данных нет, но столбцы с датами представлены в формате Object. Это нужно исправить. Также, для удобства воспритятия мы поменяем местами столбцы `End Ts` и `Start Ts` в таблице visits и приведем все названия столбцов к нижнему регистру."
   ]
  },
  {
   "cell_type": "markdown",
   "metadata": {},
   "source": [
    "## II. Подготовка данных  <a id=\"second\"></a>"
   ]
  },
  {
   "cell_type": "code",
   "execution_count": 15,
   "metadata": {},
   "outputs": [],
   "source": [
    "visits.columns = [col.lower() for col in visits.columns]\n",
    "orders.columns = [col.lower() for col in orders.columns]\n",
    "costs.columns = [col.lower() for col in costs.columns]"
   ]
  },
  {
   "cell_type": "code",
   "execution_count": 16,
   "metadata": {},
   "outputs": [],
   "source": [
    "visits = visits[['device','source id','uid','start ts','end ts']]"
   ]
  },
  {
   "cell_type": "code",
   "execution_count": 17,
   "metadata": {},
   "outputs": [],
   "source": [
    "visits['start ts'] = pd.to_datetime(visits['start ts'])\n",
    "visits['end ts'] = pd.to_datetime(visits['end ts'])"
   ]
  },
  {
   "cell_type": "code",
   "execution_count": 18,
   "metadata": {},
   "outputs": [
    {
     "name": "stdout",
     "output_type": "stream",
     "text": [
      "<class 'pandas.core.frame.DataFrame'>\n",
      "RangeIndex: 359400 entries, 0 to 359399\n",
      "Data columns (total 5 columns):\n",
      " #   Column     Non-Null Count   Dtype         \n",
      "---  ------     --------------   -----         \n",
      " 0   device     359400 non-null  object        \n",
      " 1   source id  359400 non-null  int64         \n",
      " 2   uid        359400 non-null  object        \n",
      " 3   start ts   359400 non-null  datetime64[ns]\n",
      " 4   end ts     359400 non-null  datetime64[ns]\n",
      "dtypes: datetime64[ns](2), int64(1), object(2)\n",
      "memory usage: 13.7+ MB\n"
     ]
    }
   ],
   "source": [
    "visits.info()"
   ]
  },
  {
   "cell_type": "code",
   "execution_count": 19,
   "metadata": {},
   "outputs": [],
   "source": [
    "orders['buy ts'] = pd.to_datetime(orders['buy ts'])"
   ]
  },
  {
   "cell_type": "code",
   "execution_count": 20,
   "metadata": {},
   "outputs": [
    {
     "data": {
      "text/plain": [
       "dtype('<M8[ns]')"
      ]
     },
     "execution_count": 20,
     "metadata": {},
     "output_type": "execute_result"
    }
   ],
   "source": [
    "orders['buy ts'].dtypes"
   ]
  },
  {
   "cell_type": "code",
   "execution_count": 21,
   "metadata": {},
   "outputs": [],
   "source": [
    "costs['dt'] = pd.to_datetime(costs['dt'])"
   ]
  },
  {
   "cell_type": "code",
   "execution_count": 22,
   "metadata": {},
   "outputs": [
    {
     "data": {
      "text/plain": [
       "dtype('<M8[ns]')"
      ]
     },
     "execution_count": 22,
     "metadata": {},
     "output_type": "execute_result"
    }
   ],
   "source": [
    "costs['dt'].dtypes"
   ]
  },
  {
   "cell_type": "markdown",
   "metadata": {},
   "source": [
    "## III. Формирование отчётов и расчет метрик <a id=\"third\"></a>\n",
    " Сегментируем наш анализ по типам метрик:  Продуктовые, Метрики продаж и Маркетиновые."
   ]
  },
  {
   "cell_type": "markdown",
   "metadata": {},
   "source": [
    "### Продуктовые метрики: <a id=\"prod\"></a>"
   ]
  },
  {
   "cell_type": "markdown",
   "metadata": {},
   "source": [
    "##### Выясним сколько людей пользуются продуктом в день, неделю, месяц. Посмотрим на DAU, WAU и MAU.\n"
   ]
  },
  {
   "cell_type": "markdown",
   "metadata": {},
   "source": [
    "###### Для начала добавим необходимые для анализа столбцы."
   ]
  },
  {
   "cell_type": "code",
   "execution_count": 23,
   "metadata": {},
   "outputs": [],
   "source": [
    "visits['date'] = visits['start ts'].dt.date\n",
    "visits['week'] = visits['start ts'].dt.week\n",
    "visits['month'] = visits['start ts'].dt.month\n",
    "visits['year'] = visits['start ts'].dt.year\n",
    "visits['weekday'] = visits['start ts'].dt.weekday\n",
    "visits['month_year'] = pd.to_datetime(visits['start ts']).dt.to_period('M')\n",
    "visits['week_year'] = visits['start ts'].dt.strftime('%Y-%W')"
   ]
  },
  {
   "cell_type": "code",
   "execution_count": 24,
   "metadata": {},
   "outputs": [
    {
     "data": {
      "text/html": [
       "<div>\n",
       "<style scoped>\n",
       "    .dataframe tbody tr th:only-of-type {\n",
       "        vertical-align: middle;\n",
       "    }\n",
       "\n",
       "    .dataframe tbody tr th {\n",
       "        vertical-align: top;\n",
       "    }\n",
       "\n",
       "    .dataframe thead th {\n",
       "        text-align: right;\n",
       "    }\n",
       "</style>\n",
       "<table border=\"1\" class=\"dataframe\">\n",
       "  <thead>\n",
       "    <tr style=\"text-align: right;\">\n",
       "      <th></th>\n",
       "      <th>device</th>\n",
       "      <th>source id</th>\n",
       "      <th>uid</th>\n",
       "      <th>start ts</th>\n",
       "      <th>end ts</th>\n",
       "      <th>date</th>\n",
       "      <th>week</th>\n",
       "      <th>month</th>\n",
       "      <th>year</th>\n",
       "      <th>weekday</th>\n",
       "      <th>month_year</th>\n",
       "      <th>week_year</th>\n",
       "    </tr>\n",
       "  </thead>\n",
       "  <tbody>\n",
       "    <tr>\n",
       "      <th>235658</th>\n",
       "      <td>desktop</td>\n",
       "      <td>3</td>\n",
       "      <td>610120148771234435</td>\n",
       "      <td>2018-01-05 09:47:00</td>\n",
       "      <td>2018-01-05 09:51:00</td>\n",
       "      <td>2018-01-05</td>\n",
       "      <td>1</td>\n",
       "      <td>1</td>\n",
       "      <td>2018</td>\n",
       "      <td>4</td>\n",
       "      <td>2018-01</td>\n",
       "      <td>2018-01</td>\n",
       "    </tr>\n",
       "    <tr>\n",
       "      <th>71280</th>\n",
       "      <td>desktop</td>\n",
       "      <td>5</td>\n",
       "      <td>911665365623515725</td>\n",
       "      <td>2017-10-19 09:04:00</td>\n",
       "      <td>2017-10-19 09:06:00</td>\n",
       "      <td>2017-10-19</td>\n",
       "      <td>42</td>\n",
       "      <td>10</td>\n",
       "      <td>2017</td>\n",
       "      <td>3</td>\n",
       "      <td>2017-10</td>\n",
       "      <td>2017-42</td>\n",
       "    </tr>\n",
       "    <tr>\n",
       "      <th>242338</th>\n",
       "      <td>desktop</td>\n",
       "      <td>2</td>\n",
       "      <td>12232502882581365431</td>\n",
       "      <td>2018-02-14 09:39:00</td>\n",
       "      <td>2018-02-14 09:49:00</td>\n",
       "      <td>2018-02-14</td>\n",
       "      <td>7</td>\n",
       "      <td>2</td>\n",
       "      <td>2018</td>\n",
       "      <td>2</td>\n",
       "      <td>2018-02</td>\n",
       "      <td>2018-07</td>\n",
       "    </tr>\n",
       "    <tr>\n",
       "      <th>171954</th>\n",
       "      <td>touch</td>\n",
       "      <td>3</td>\n",
       "      <td>4270509273316425299</td>\n",
       "      <td>2017-10-31 19:32:00</td>\n",
       "      <td>2017-10-31 19:33:00</td>\n",
       "      <td>2017-10-31</td>\n",
       "      <td>44</td>\n",
       "      <td>10</td>\n",
       "      <td>2017</td>\n",
       "      <td>1</td>\n",
       "      <td>2017-10</td>\n",
       "      <td>2017-44</td>\n",
       "    </tr>\n",
       "    <tr>\n",
       "      <th>45682</th>\n",
       "      <td>touch</td>\n",
       "      <td>4</td>\n",
       "      <td>13413972707979596755</td>\n",
       "      <td>2018-03-22 16:42:00</td>\n",
       "      <td>2018-03-22 16:44:00</td>\n",
       "      <td>2018-03-22</td>\n",
       "      <td>12</td>\n",
       "      <td>3</td>\n",
       "      <td>2018</td>\n",
       "      <td>3</td>\n",
       "      <td>2018-03</td>\n",
       "      <td>2018-12</td>\n",
       "    </tr>\n",
       "  </tbody>\n",
       "</table>\n",
       "</div>"
      ],
      "text/plain": [
       "         device  source id                   uid            start ts  \\\n",
       "235658  desktop          3    610120148771234435 2018-01-05 09:47:00   \n",
       "71280   desktop          5    911665365623515725 2017-10-19 09:04:00   \n",
       "242338  desktop          2  12232502882581365431 2018-02-14 09:39:00   \n",
       "171954    touch          3   4270509273316425299 2017-10-31 19:32:00   \n",
       "45682     touch          4  13413972707979596755 2018-03-22 16:42:00   \n",
       "\n",
       "                    end ts        date  week  month  year  weekday month_year  \\\n",
       "235658 2018-01-05 09:51:00  2018-01-05     1      1  2018        4    2018-01   \n",
       "71280  2017-10-19 09:06:00  2017-10-19    42     10  2017        3    2017-10   \n",
       "242338 2018-02-14 09:49:00  2018-02-14     7      2  2018        2    2018-02   \n",
       "171954 2017-10-31 19:33:00  2017-10-31    44     10  2017        1    2017-10   \n",
       "45682  2018-03-22 16:44:00  2018-03-22    12      3  2018        3    2018-03   \n",
       "\n",
       "       week_year  \n",
       "235658   2018-01  \n",
       "71280    2017-42  \n",
       "242338   2018-07  \n",
       "171954   2017-44  \n",
       "45682    2018-12  "
      ]
     },
     "metadata": {},
     "output_type": "display_data"
    }
   ],
   "source": [
    "display(visits.sample(5))"
   ]
  },
  {
   "cell_type": "markdown",
   "metadata": {},
   "source": [
    "###### Узнаем сколько у нас всего уникальных ползователей."
   ]
  },
  {
   "cell_type": "code",
   "execution_count": 25,
   "metadata": {},
   "outputs": [
    {
     "name": "stdout",
     "output_type": "stream",
     "text": [
      "Всего уникальных пользователей: 228169\n"
     ]
    }
   ],
   "source": [
    "print('Всего уникальных пользователей:', visits['uid'].drop_duplicates().count())"
   ]
  },
  {
   "cell_type": "markdown",
   "metadata": {},
   "source": [
    "##### Сгруппируем уникальных пользвателей по дате / неделе года / месяцу года."
   ]
  },
  {
   "cell_type": "code",
   "execution_count": 26,
   "metadata": {},
   "outputs": [],
   "source": [
    "users_per_date = visits.groupby(by= 'date').agg({'uid': ['nunique']}).reset_index()\n",
    "users_per_date.columns = ['date', 'users']\n",
    "\n",
    "users_per_week = visits.groupby(by= ['year', 'week_year']).agg({'uid': ['nunique']}).reset_index()\n",
    "users_per_week.columns = ['year', 'week_year', 'users']\n",
    "\n",
    "users_per_month = visits.groupby(by= ['year', 'month_year']).agg({'uid': ['nunique']}).reset_index()\n",
    "users_per_month.columns = ['year', 'month_year', 'users']\n"
   ]
  },
  {
   "cell_type": "markdown",
   "metadata": {},
   "source": [
    "##### Посмотрим на DAU (Daily Active Users)."
   ]
  },
  {
   "cell_type": "code",
   "execution_count": 27,
   "metadata": {},
   "outputs": [
    {
     "data": {
      "image/png": "[encoded data removed]",
      "text/plain": [
       "<Figure size 1296x432 with 1 Axes>"
      ]
     },
     "metadata": {
      "needs_background": "light"
     },
     "output_type": "display_data"
    }
   ],
   "source": [
    "pd.options.mode.chained_assignment = None\n",
    "fig, ax = plt.subplots(figsize=(18,6))\n",
    "sns.lineplot(data=users_per_date, x = 'date', y = 'users', color = 'r', linewidth = 2)\n",
    "\n",
    "plt.grid(True)\n",
    "plt.title('DAU')\n",
    "plt.xlabel('Date')\n",
    "plt.ylabel('Unique active users')\n",
    "plt.show()"
   ]
  },
  {
   "cell_type": "code",
   "execution_count": 28,
   "metadata": {},
   "outputs": [
    {
     "name": "stdout",
     "output_type": "stream",
     "text": [
      "Среднее количество активных уникальных юзеров в день за весь период: 907\n",
      "Медианное количество активных уникальных юзеров в день за весь период: 921\n"
     ]
    }
   ],
   "source": [
    "print('Среднее количество активных уникальных юзеров в день за весь период:', int(users_per_date['users'].mean()))\n",
    "print('Медианное количество активных уникальных юзеров в день за весь период:', int(users_per_date['users'].median()))"
   ]
  },
  {
   "cell_type": "markdown",
   "metadata": {},
   "source": [
    "##### Посмотрим на WAU (Week Active Users)."
   ]
  },
  {
   "cell_type": "code",
   "execution_count": 29,
   "metadata": {},
   "outputs": [
    {
     "data": {
      "image/png": "[encoded data removed]",
      "text/plain": [
       "<Figure size 1296x432 with 1 Axes>"
      ]
     },
     "metadata": {
      "needs_background": "light"
     },
     "output_type": "display_data"
    }
   ],
   "source": [
    "x = np.arange(0,len(users_per_week),1)\n",
    "fig, ax = plt.subplots(figsize=(18,6))\n",
    "ax.plot(x,users_per_week['users'],color = 'r', linewidth = 2)\n",
    "ax.set_xticks(x)\n",
    "ax.set_xticklabels(users_per_week['week_year'])\n",
    "ax.tick_params(labelrotation = 45)\n",
    "\n",
    "plt.grid(True)\n",
    "plt.title('WAU')\n",
    "plt.xlabel('Year_week')\n",
    "plt.ylabel('Unique active users')\n",
    "plt.show()"
   ]
  },
  {
   "cell_type": "code",
   "execution_count": 30,
   "metadata": {
    "scrolled": true
   },
   "outputs": [
    {
     "name": "stdout",
     "output_type": "stream",
     "text": [
      "Среднее количество активных уникальных юзеров в неделю за весь период: 5716\n",
      "Медианное количество активныхуникальных юзеров в неделю за весь период: 5740\n"
     ]
    }
   ],
   "source": [
    "print('Среднее количество активных уникальных юзеров в неделю за весь период:', int(users_per_week['users'].mean()))\n",
    "print('Медианное количество активныхуникальных юзеров в неделю за весь период:', int(users_per_week['users'].median()))"
   ]
  },
  {
   "cell_type": "markdown",
   "metadata": {},
   "source": [
    "##### Посмотрим на MAU (Month Active Users)."
   ]
  },
  {
   "cell_type": "code",
   "execution_count": 31,
   "metadata": {},
   "outputs": [
    {
     "data": {
      "image/png": "[encoded data removed]",
      "text/plain": [
       "<Figure size 1296x432 with 1 Axes>"
      ]
     },
     "metadata": {
      "needs_background": "light"
     },
     "output_type": "display_data"
    }
   ],
   "source": [
    "x = np.arange(0,len(users_per_month),1)\n",
    "fig, ax = plt.subplots(figsize=(18,6))\n",
    "ax.plot(x,users_per_month['users'], color = 'r', linewidth = 2)\n",
    "ax.set_xticks(x)\n",
    "ax.set_xticklabels(users_per_month['month_year'])\n",
    "\n",
    "plt.grid(True)\n",
    "plt.title('MAU')\n",
    "plt.xlabel('Year_month')\n",
    "plt.ylabel('Unique active users')\n",
    "plt.show()"
   ]
  },
  {
   "cell_type": "code",
   "execution_count": 32,
   "metadata": {},
   "outputs": [
    {
     "name": "stdout",
     "output_type": "stream",
     "text": [
      "Среднее количество активных уникальных юзеров в месяц за весь период: 23228\n",
      "Медианное количество активных уникальных юзеров в месяц за весь период: 24240\n"
     ]
    }
   ],
   "source": [
    "print('Среднее количество активных уникальных юзеров в месяц за весь период:', int(users_per_month['users'].mean()))\n",
    "print('Медианное количество активных уникальных юзеров в месяц за весь период:', int(users_per_month['users'].median()))"
   ]
  },
  {
   "cell_type": "markdown",
   "metadata": {},
   "source": [
    "##### Выясним сколько сессий в день на нашем ресурсе."
   ]
  },
  {
   "cell_type": "code",
   "execution_count": 33,
   "metadata": {},
   "outputs": [
    {
     "data": {
      "text/html": [
       "<div>\n",
       "<style scoped>\n",
       "    .dataframe tbody tr th:only-of-type {\n",
       "        vertical-align: middle;\n",
       "    }\n",
       "\n",
       "    .dataframe tbody tr th {\n",
       "        vertical-align: top;\n",
       "    }\n",
       "\n",
       "    .dataframe thead th {\n",
       "        text-align: right;\n",
       "    }\n",
       "</style>\n",
       "<table border=\"1\" class=\"dataframe\">\n",
       "  <thead>\n",
       "    <tr style=\"text-align: right;\">\n",
       "      <th></th>\n",
       "      <th>device</th>\n",
       "      <th>source id</th>\n",
       "      <th>uid</th>\n",
       "      <th>start ts</th>\n",
       "      <th>end ts</th>\n",
       "      <th>date</th>\n",
       "      <th>week</th>\n",
       "      <th>month</th>\n",
       "      <th>year</th>\n",
       "      <th>weekday</th>\n",
       "      <th>month_year</th>\n",
       "      <th>week_year</th>\n",
       "    </tr>\n",
       "  </thead>\n",
       "  <tbody>\n",
       "    <tr>\n",
       "      <th>0</th>\n",
       "      <td>touch</td>\n",
       "      <td>4</td>\n",
       "      <td>16879256277535980062</td>\n",
       "      <td>2017-12-20 17:20:00</td>\n",
       "      <td>2017-12-20 17:38:00</td>\n",
       "      <td>2017-12-20</td>\n",
       "      <td>51</td>\n",
       "      <td>12</td>\n",
       "      <td>2017</td>\n",
       "      <td>2</td>\n",
       "      <td>2017-12</td>\n",
       "      <td>2017-51</td>\n",
       "    </tr>\n",
       "    <tr>\n",
       "      <th>1</th>\n",
       "      <td>desktop</td>\n",
       "      <td>2</td>\n",
       "      <td>104060357244891740</td>\n",
       "      <td>2018-02-19 16:53:00</td>\n",
       "      <td>2018-02-19 17:21:00</td>\n",
       "      <td>2018-02-19</td>\n",
       "      <td>8</td>\n",
       "      <td>2</td>\n",
       "      <td>2018</td>\n",
       "      <td>0</td>\n",
       "      <td>2018-02</td>\n",
       "      <td>2018-08</td>\n",
       "    </tr>\n",
       "    <tr>\n",
       "      <th>2</th>\n",
       "      <td>touch</td>\n",
       "      <td>5</td>\n",
       "      <td>7459035603376831527</td>\n",
       "      <td>2017-07-01 01:54:00</td>\n",
       "      <td>2017-07-01 01:54:00</td>\n",
       "      <td>2017-07-01</td>\n",
       "      <td>26</td>\n",
       "      <td>7</td>\n",
       "      <td>2017</td>\n",
       "      <td>5</td>\n",
       "      <td>2017-07</td>\n",
       "      <td>2017-26</td>\n",
       "    </tr>\n",
       "    <tr>\n",
       "      <th>3</th>\n",
       "      <td>desktop</td>\n",
       "      <td>9</td>\n",
       "      <td>16174680259334210214</td>\n",
       "      <td>2018-05-20 10:59:00</td>\n",
       "      <td>2018-05-20 11:23:00</td>\n",
       "      <td>2018-05-20</td>\n",
       "      <td>20</td>\n",
       "      <td>5</td>\n",
       "      <td>2018</td>\n",
       "      <td>6</td>\n",
       "      <td>2018-05</td>\n",
       "      <td>2018-20</td>\n",
       "    </tr>\n",
       "    <tr>\n",
       "      <th>4</th>\n",
       "      <td>desktop</td>\n",
       "      <td>3</td>\n",
       "      <td>9969694820036681168</td>\n",
       "      <td>2017-12-27 14:06:00</td>\n",
       "      <td>2017-12-27 14:06:00</td>\n",
       "      <td>2017-12-27</td>\n",
       "      <td>52</td>\n",
       "      <td>12</td>\n",
       "      <td>2017</td>\n",
       "      <td>2</td>\n",
       "      <td>2017-12</td>\n",
       "      <td>2017-52</td>\n",
       "    </tr>\n",
       "  </tbody>\n",
       "</table>\n",
       "</div>"
      ],
      "text/plain": [
       "    device  source id                   uid            start ts  \\\n",
       "0    touch          4  16879256277535980062 2017-12-20 17:20:00   \n",
       "1  desktop          2    104060357244891740 2018-02-19 16:53:00   \n",
       "2    touch          5   7459035603376831527 2017-07-01 01:54:00   \n",
       "3  desktop          9  16174680259334210214 2018-05-20 10:59:00   \n",
       "4  desktop          3   9969694820036681168 2017-12-27 14:06:00   \n",
       "\n",
       "               end ts        date  week  month  year  weekday month_year  \\\n",
       "0 2017-12-20 17:38:00  2017-12-20    51     12  2017        2    2017-12   \n",
       "1 2018-02-19 17:21:00  2018-02-19     8      2  2018        0    2018-02   \n",
       "2 2017-07-01 01:54:00  2017-07-01    26      7  2017        5    2017-07   \n",
       "3 2018-05-20 11:23:00  2018-05-20    20      5  2018        6    2018-05   \n",
       "4 2017-12-27 14:06:00  2017-12-27    52     12  2017        2    2017-12   \n",
       "\n",
       "  week_year  \n",
       "0   2017-51  \n",
       "1   2018-08  \n",
       "2   2017-26  \n",
       "3   2018-20  \n",
       "4   2017-52  "
      ]
     },
     "execution_count": 33,
     "metadata": {},
     "output_type": "execute_result"
    }
   ],
   "source": [
    "visits.head()"
   ]
  },
  {
   "cell_type": "code",
   "execution_count": 34,
   "metadata": {},
   "outputs": [],
   "source": [
    "sessions_per_date = visits.groupby(by= 'date').agg({'date': ['count']}).reset_index()\n",
    "sessions_per_date.columns = ['date', 'session_cnt']"
   ]
  },
  {
   "cell_type": "code",
   "execution_count": 35,
   "metadata": {},
   "outputs": [
    {
     "data": {
      "text/plain": [
       "Text(0, 0.5, 'Sessions')"
      ]
     },
     "execution_count": 35,
     "metadata": {},
     "output_type": "execute_result"
    },
    {
     "data": {
      "image/png": "[encoded data removed]",
      "text/plain": [
       "<Figure size 1296x432 with 1 Axes>"
      ]
     },
     "metadata": {
      "needs_background": "light"
     },
     "output_type": "display_data"
    }
   ],
   "source": [
    "pd.options.mode.chained_assignment = None\n",
    "fig, ax = plt.subplots(figsize=(18,6))\n",
    "sns.lineplot(data=sessions_per_date, x = 'date', y = 'session_cnt', color = 'r', linewidth = 2)\n",
    "\n",
    "plt.grid(True)\n",
    "plt.title('Sessions per date')\n",
    "plt.xlabel('Date')\n",
    "plt.ylabel('Sessions')"
   ]
  },
  {
   "cell_type": "code",
   "execution_count": 36,
   "metadata": {},
   "outputs": [
    {
     "name": "stdout",
     "output_type": "stream",
     "text": [
      "Среднее количество сессий в день за весь период: 987\n",
      "Медианнае количество сессий в день за весь период: 1003\n"
     ]
    }
   ],
   "source": [
    "print('Среднее количество сессий в день за весь период:', int(sessions_per_date['session_cnt'].mean()))\n",
    "print('Медианнае количество сессий в день за весь период:', int(sessions_per_date['session_cnt'].median()))"
   ]
  },
  {
   "cell_type": "markdown",
   "metadata": {},
   "source": [
    "##### Посмтрим сколько длится одна сессия: ASL (Average Session Length)."
   ]
  },
  {
   "cell_type": "code",
   "execution_count": 37,
   "metadata": {},
   "outputs": [
    {
     "data": {
      "text/html": [
       "<div>\n",
       "<style scoped>\n",
       "    .dataframe tbody tr th:only-of-type {\n",
       "        vertical-align: middle;\n",
       "    }\n",
       "\n",
       "    .dataframe tbody tr th {\n",
       "        vertical-align: top;\n",
       "    }\n",
       "\n",
       "    .dataframe thead th {\n",
       "        text-align: right;\n",
       "    }\n",
       "</style>\n",
       "<table border=\"1\" class=\"dataframe\">\n",
       "  <thead>\n",
       "    <tr style=\"text-align: right;\">\n",
       "      <th></th>\n",
       "      <th>device</th>\n",
       "      <th>source id</th>\n",
       "      <th>uid</th>\n",
       "      <th>start ts</th>\n",
       "      <th>end ts</th>\n",
       "      <th>date</th>\n",
       "      <th>week</th>\n",
       "      <th>month</th>\n",
       "      <th>year</th>\n",
       "      <th>weekday</th>\n",
       "      <th>month_year</th>\n",
       "      <th>week_year</th>\n",
       "    </tr>\n",
       "  </thead>\n",
       "  <tbody>\n",
       "    <tr>\n",
       "      <th>0</th>\n",
       "      <td>touch</td>\n",
       "      <td>4</td>\n",
       "      <td>16879256277535980062</td>\n",
       "      <td>2017-12-20 17:20:00</td>\n",
       "      <td>2017-12-20 17:38:00</td>\n",
       "      <td>2017-12-20</td>\n",
       "      <td>51</td>\n",
       "      <td>12</td>\n",
       "      <td>2017</td>\n",
       "      <td>2</td>\n",
       "      <td>2017-12</td>\n",
       "      <td>2017-51</td>\n",
       "    </tr>\n",
       "    <tr>\n",
       "      <th>1</th>\n",
       "      <td>desktop</td>\n",
       "      <td>2</td>\n",
       "      <td>104060357244891740</td>\n",
       "      <td>2018-02-19 16:53:00</td>\n",
       "      <td>2018-02-19 17:21:00</td>\n",
       "      <td>2018-02-19</td>\n",
       "      <td>8</td>\n",
       "      <td>2</td>\n",
       "      <td>2018</td>\n",
       "      <td>0</td>\n",
       "      <td>2018-02</td>\n",
       "      <td>2018-08</td>\n",
       "    </tr>\n",
       "    <tr>\n",
       "      <th>2</th>\n",
       "      <td>touch</td>\n",
       "      <td>5</td>\n",
       "      <td>7459035603376831527</td>\n",
       "      <td>2017-07-01 01:54:00</td>\n",
       "      <td>2017-07-01 01:54:00</td>\n",
       "      <td>2017-07-01</td>\n",
       "      <td>26</td>\n",
       "      <td>7</td>\n",
       "      <td>2017</td>\n",
       "      <td>5</td>\n",
       "      <td>2017-07</td>\n",
       "      <td>2017-26</td>\n",
       "    </tr>\n",
       "    <tr>\n",
       "      <th>3</th>\n",
       "      <td>desktop</td>\n",
       "      <td>9</td>\n",
       "      <td>16174680259334210214</td>\n",
       "      <td>2018-05-20 10:59:00</td>\n",
       "      <td>2018-05-20 11:23:00</td>\n",
       "      <td>2018-05-20</td>\n",
       "      <td>20</td>\n",
       "      <td>5</td>\n",
       "      <td>2018</td>\n",
       "      <td>6</td>\n",
       "      <td>2018-05</td>\n",
       "      <td>2018-20</td>\n",
       "    </tr>\n",
       "    <tr>\n",
       "      <th>4</th>\n",
       "      <td>desktop</td>\n",
       "      <td>3</td>\n",
       "      <td>9969694820036681168</td>\n",
       "      <td>2017-12-27 14:06:00</td>\n",
       "      <td>2017-12-27 14:06:00</td>\n",
       "      <td>2017-12-27</td>\n",
       "      <td>52</td>\n",
       "      <td>12</td>\n",
       "      <td>2017</td>\n",
       "      <td>2</td>\n",
       "      <td>2017-12</td>\n",
       "      <td>2017-52</td>\n",
       "    </tr>\n",
       "  </tbody>\n",
       "</table>\n",
       "</div>"
      ],
      "text/plain": [
       "    device  source id                   uid            start ts  \\\n",
       "0    touch          4  16879256277535980062 2017-12-20 17:20:00   \n",
       "1  desktop          2    104060357244891740 2018-02-19 16:53:00   \n",
       "2    touch          5   7459035603376831527 2017-07-01 01:54:00   \n",
       "3  desktop          9  16174680259334210214 2018-05-20 10:59:00   \n",
       "4  desktop          3   9969694820036681168 2017-12-27 14:06:00   \n",
       "\n",
       "               end ts        date  week  month  year  weekday month_year  \\\n",
       "0 2017-12-20 17:38:00  2017-12-20    51     12  2017        2    2017-12   \n",
       "1 2018-02-19 17:21:00  2018-02-19     8      2  2018        0    2018-02   \n",
       "2 2017-07-01 01:54:00  2017-07-01    26      7  2017        5    2017-07   \n",
       "3 2018-05-20 11:23:00  2018-05-20    20      5  2018        6    2018-05   \n",
       "4 2017-12-27 14:06:00  2017-12-27    52     12  2017        2    2017-12   \n",
       "\n",
       "  week_year  \n",
       "0   2017-51  \n",
       "1   2018-08  \n",
       "2   2017-26  \n",
       "3   2018-20  \n",
       "4   2017-52  "
      ]
     },
     "execution_count": 37,
     "metadata": {},
     "output_type": "execute_result"
    }
   ],
   "source": [
    "visits.head(5)"
   ]
  },
  {
   "cell_type": "code",
   "execution_count": 38,
   "metadata": {},
   "outputs": [],
   "source": [
    "visits['session_duration_sec'] = (visits['end ts'] - visits['start ts']).dt.seconds"
   ]
  },
  {
   "cell_type": "code",
   "execution_count": 39,
   "metadata": {},
   "outputs": [
    {
     "data": {
      "image/png": "[encoded data removed]",
      "text/plain": [
       "<Figure size 576x576 with 1 Axes>"
      ]
     },
     "metadata": {
      "needs_background": "light"
     },
     "output_type": "display_data"
    }
   ],
   "source": [
    "plt.figure(figsize=(8,8))\n",
    "plt.hist(visits['session_duration_sec'], bins=100, color = 'r')\n",
    "        \n",
    "plt.grid(True)\n",
    "plt.title('Session length dist')\n",
    "plt.xlabel('Frequency')\n",
    "plt.ylabel('Session length ,sec')\n",
    "plt.show()"
   ]
  },
  {
   "cell_type": "code",
   "execution_count": 40,
   "metadata": {},
   "outputs": [
    {
     "name": "stdout",
     "output_type": "stream",
     "text": [
      "Средняя длина сессии: 643 сек.\n",
      "Медианная длина сессии: 300 сек.\n",
      "Мода длины сессии (наиболее встречающаяся длина): 60 сек.\n"
     ]
    }
   ],
   "source": [
    "print('Средняя длина сессии:', int(visits['session_duration_sec'].mean()), 'сек.')\n",
    "print('Медианная длина сессии:', int(visits['session_duration_sec'].median()), 'сек.')\n",
    "print('Мода длины сессии (наиболее встречающаяся длина):', visits['session_duration_sec'].mode()[0], 'сек.')"
   ]
  },
  {
   "cell_type": "markdown",
   "metadata": {},
   "source": [
    "##### Проанализируем как часто возвращаются пользователи."
   ]
  },
  {
   "cell_type": "code",
   "execution_count": 41,
   "metadata": {},
   "outputs": [
    {
     "data": {
      "text/html": [
       "<div>\n",
       "<style scoped>\n",
       "    .dataframe tbody tr th:only-of-type {\n",
       "        vertical-align: middle;\n",
       "    }\n",
       "\n",
       "    .dataframe tbody tr th {\n",
       "        vertical-align: top;\n",
       "    }\n",
       "\n",
       "    .dataframe thead th {\n",
       "        text-align: right;\n",
       "    }\n",
       "</style>\n",
       "<table border=\"1\" class=\"dataframe\">\n",
       "  <thead>\n",
       "    <tr style=\"text-align: right;\">\n",
       "      <th></th>\n",
       "      <th>device</th>\n",
       "      <th>source id</th>\n",
       "      <th>uid</th>\n",
       "      <th>start ts</th>\n",
       "      <th>end ts</th>\n",
       "      <th>date</th>\n",
       "      <th>week</th>\n",
       "      <th>month</th>\n",
       "      <th>year</th>\n",
       "      <th>weekday</th>\n",
       "      <th>month_year</th>\n",
       "      <th>week_year</th>\n",
       "      <th>session_duration_sec</th>\n",
       "    </tr>\n",
       "  </thead>\n",
       "  <tbody>\n",
       "    <tr>\n",
       "      <th>0</th>\n",
       "      <td>touch</td>\n",
       "      <td>4</td>\n",
       "      <td>16879256277535980062</td>\n",
       "      <td>2017-12-20 17:20:00</td>\n",
       "      <td>2017-12-20 17:38:00</td>\n",
       "      <td>2017-12-20</td>\n",
       "      <td>51</td>\n",
       "      <td>12</td>\n",
       "      <td>2017</td>\n",
       "      <td>2</td>\n",
       "      <td>2017-12</td>\n",
       "      <td>2017-51</td>\n",
       "      <td>1080</td>\n",
       "    </tr>\n",
       "    <tr>\n",
       "      <th>1</th>\n",
       "      <td>desktop</td>\n",
       "      <td>2</td>\n",
       "      <td>104060357244891740</td>\n",
       "      <td>2018-02-19 16:53:00</td>\n",
       "      <td>2018-02-19 17:21:00</td>\n",
       "      <td>2018-02-19</td>\n",
       "      <td>8</td>\n",
       "      <td>2</td>\n",
       "      <td>2018</td>\n",
       "      <td>0</td>\n",
       "      <td>2018-02</td>\n",
       "      <td>2018-08</td>\n",
       "      <td>1680</td>\n",
       "    </tr>\n",
       "    <tr>\n",
       "      <th>2</th>\n",
       "      <td>touch</td>\n",
       "      <td>5</td>\n",
       "      <td>7459035603376831527</td>\n",
       "      <td>2017-07-01 01:54:00</td>\n",
       "      <td>2017-07-01 01:54:00</td>\n",
       "      <td>2017-07-01</td>\n",
       "      <td>26</td>\n",
       "      <td>7</td>\n",
       "      <td>2017</td>\n",
       "      <td>5</td>\n",
       "      <td>2017-07</td>\n",
       "      <td>2017-26</td>\n",
       "      <td>0</td>\n",
       "    </tr>\n",
       "    <tr>\n",
       "      <th>3</th>\n",
       "      <td>desktop</td>\n",
       "      <td>9</td>\n",
       "      <td>16174680259334210214</td>\n",
       "      <td>2018-05-20 10:59:00</td>\n",
       "      <td>2018-05-20 11:23:00</td>\n",
       "      <td>2018-05-20</td>\n",
       "      <td>20</td>\n",
       "      <td>5</td>\n",
       "      <td>2018</td>\n",
       "      <td>6</td>\n",
       "      <td>2018-05</td>\n",
       "      <td>2018-20</td>\n",
       "      <td>1440</td>\n",
       "    </tr>\n",
       "    <tr>\n",
       "      <th>4</th>\n",
       "      <td>desktop</td>\n",
       "      <td>3</td>\n",
       "      <td>9969694820036681168</td>\n",
       "      <td>2017-12-27 14:06:00</td>\n",
       "      <td>2017-12-27 14:06:00</td>\n",
       "      <td>2017-12-27</td>\n",
       "      <td>52</td>\n",
       "      <td>12</td>\n",
       "      <td>2017</td>\n",
       "      <td>2</td>\n",
       "      <td>2017-12</td>\n",
       "      <td>2017-52</td>\n",
       "      <td>0</td>\n",
       "    </tr>\n",
       "  </tbody>\n",
       "</table>\n",
       "</div>"
      ],
      "text/plain": [
       "    device  source id                   uid            start ts  \\\n",
       "0    touch          4  16879256277535980062 2017-12-20 17:20:00   \n",
       "1  desktop          2    104060357244891740 2018-02-19 16:53:00   \n",
       "2    touch          5   7459035603376831527 2017-07-01 01:54:00   \n",
       "3  desktop          9  16174680259334210214 2018-05-20 10:59:00   \n",
       "4  desktop          3   9969694820036681168 2017-12-27 14:06:00   \n",
       "\n",
       "               end ts        date  week  month  year  weekday month_year  \\\n",
       "0 2017-12-20 17:38:00  2017-12-20    51     12  2017        2    2017-12   \n",
       "1 2018-02-19 17:21:00  2018-02-19     8      2  2018        0    2018-02   \n",
       "2 2017-07-01 01:54:00  2017-07-01    26      7  2017        5    2017-07   \n",
       "3 2018-05-20 11:23:00  2018-05-20    20      5  2018        6    2018-05   \n",
       "4 2017-12-27 14:06:00  2017-12-27    52     12  2017        2    2017-12   \n",
       "\n",
       "  week_year  session_duration_sec  \n",
       "0   2017-51                  1080  \n",
       "1   2018-08                  1680  \n",
       "2   2017-26                     0  \n",
       "3   2018-20                  1440  \n",
       "4   2017-52                     0  "
      ]
     },
     "metadata": {},
     "output_type": "display_data"
    }
   ],
   "source": [
    "display(visits.head(5))"
   ]
  },
  {
   "cell_type": "markdown",
   "metadata": {},
   "source": [
    "###### Для начала определим когда пользватели проявили свою первую активность внашем сервисе."
   ]
  },
  {
   "cell_type": "code",
   "execution_count": 42,
   "metadata": {},
   "outputs": [],
   "source": [
    "visits['date'] = pd.to_datetime(visits['date'])\n",
    "\n",
    "first_activity_date = visits.groupby(['uid'])['date'].min()\n",
    "first_activity_date.name = 'first_activity_date'"
   ]
  },
  {
   "cell_type": "markdown",
   "metadata": {},
   "source": [
    "###### Объединим получившуюся сводную таблицу с исходным датафреймом."
   ]
  },
  {
   "cell_type": "code",
   "execution_count": 43,
   "metadata": {},
   "outputs": [],
   "source": [
    "visits = visits.join(first_activity_date,on='uid') "
   ]
  },
  {
   "cell_type": "markdown",
   "metadata": {},
   "source": [
    "###### Поскольку Яндекс.Афиша - это пользвательский сервис c  мероприятиями, то мы не думаем, что пользватели ежедневно или еженедельно туда заходят. Поэтому мы сформируем когорты на месячной основе."
   ]
  },
  {
   "cell_type": "code",
   "execution_count": 44,
   "metadata": {},
   "outputs": [],
   "source": [
    "visits['first_activity_month'] = visits['first_activity_date'].astype('datetime64[M]')\n",
    "visits['activity_month'] = visits['date'].astype('datetime64[M]')"
   ]
  },
  {
   "cell_type": "code",
   "execution_count": 45,
   "metadata": {},
   "outputs": [],
   "source": [
    "visits['cohort_lifetime'] = visits['activity_month'] - visits['first_activity_month']\n",
    "visits['cohort_lifetime'] = visits['cohort_lifetime'] / np.timedelta64(1,'M')\n",
    "visits['cohort_lifetime'] = visits['cohort_lifetime'].round()\n",
    "visits['cohort_lifetime'] = visits['cohort_lifetime'].astype('int') "
   ]
  },
  {
   "cell_type": "markdown",
   "metadata": {},
   "source": [
    "##### Сгруппируем данные по когорте и lifetime. Посчитаем для каждой когорты количество активных пользователей на определённый месяц жизни."
   ]
  },
  {
   "cell_type": "code",
   "execution_count": 46,
   "metadata": {},
   "outputs": [],
   "source": [
    "cohorts = visits.groupby(['first_activity_month','cohort_lifetime']).agg({'uid':'nunique'}).reset_index() "
   ]
  },
  {
   "cell_type": "markdown",
   "metadata": {},
   "source": [
    "##### Найдём исходное количество пользователей в когорте."
   ]
  },
  {
   "cell_type": "code",
   "execution_count": 47,
   "metadata": {},
   "outputs": [
    {
     "name": "stdout",
     "output_type": "stream",
     "text": [
      "   first_activity_month    uid\n",
      "0            2017-06-01  13259\n",
      "12           2017-07-01  13140\n",
      "23           2017-08-01  10181\n",
      "33           2017-09-01  16704\n",
      "42           2017-10-01  25977\n",
      "50           2017-11-01  27248\n",
      "57           2017-12-01  25268\n",
      "63           2018-01-01  22624\n",
      "68           2018-02-01  22197\n",
      "72           2018-03-01  20589\n",
      "75           2018-04-01  15709\n",
      "77           2018-05-01  15273\n"
     ]
    }
   ],
   "source": [
    "initial_users_count = cohorts[cohorts['cohort_lifetime'] == 0][['first_activity_month','uid']]\n",
    "print(initial_users_count)"
   ]
  },
  {
   "cell_type": "markdown",
   "metadata": {},
   "source": [
    "##### Объединим данные по когортам с исходным количеством пользователей в когорте."
   ]
  },
  {
   "cell_type": "code",
   "execution_count": 48,
   "metadata": {},
   "outputs": [],
   "source": [
    "initial_users_count = initial_users_count.rename(columns={'uid':'cohort_users'})\n",
    "cohorts = cohorts.merge(initial_users_count,on='first_activity_month')"
   ]
  },
  {
   "cell_type": "markdown",
   "metadata": {},
   "source": [
    "##### Рассчитаем Retention Rate (Коэффициент удержания)."
   ]
  },
  {
   "cell_type": "code",
   "execution_count": 49,
   "metadata": {},
   "outputs": [],
   "source": [
    "cohorts['retention'] = cohorts['uid']/cohorts['cohort_users']"
   ]
  },
  {
   "cell_type": "code",
   "execution_count": 50,
   "metadata": {},
   "outputs": [
    {
     "data": {
      "text/html": [
       "<div>\n",
       "<style scoped>\n",
       "    .dataframe tbody tr th:only-of-type {\n",
       "        vertical-align: middle;\n",
       "    }\n",
       "\n",
       "    .dataframe tbody tr th {\n",
       "        vertical-align: top;\n",
       "    }\n",
       "\n",
       "    .dataframe thead th {\n",
       "        text-align: right;\n",
       "    }\n",
       "</style>\n",
       "<table border=\"1\" class=\"dataframe\">\n",
       "  <thead>\n",
       "    <tr style=\"text-align: right;\">\n",
       "      <th></th>\n",
       "      <th>first_activity_month</th>\n",
       "      <th>cohort_lifetime</th>\n",
       "      <th>uid</th>\n",
       "      <th>cohort_users</th>\n",
       "      <th>retention</th>\n",
       "    </tr>\n",
       "  </thead>\n",
       "  <tbody>\n",
       "    <tr>\n",
       "      <th>0</th>\n",
       "      <td>2017-06-01</td>\n",
       "      <td>0</td>\n",
       "      <td>13259</td>\n",
       "      <td>13259</td>\n",
       "      <td>1.000000</td>\n",
       "    </tr>\n",
       "    <tr>\n",
       "      <th>1</th>\n",
       "      <td>2017-06-01</td>\n",
       "      <td>1</td>\n",
       "      <td>1043</td>\n",
       "      <td>13259</td>\n",
       "      <td>0.078664</td>\n",
       "    </tr>\n",
       "    <tr>\n",
       "      <th>2</th>\n",
       "      <td>2017-06-01</td>\n",
       "      <td>2</td>\n",
       "      <td>713</td>\n",
       "      <td>13259</td>\n",
       "      <td>0.053775</td>\n",
       "    </tr>\n",
       "    <tr>\n",
       "      <th>3</th>\n",
       "      <td>2017-06-01</td>\n",
       "      <td>3</td>\n",
       "      <td>814</td>\n",
       "      <td>13259</td>\n",
       "      <td>0.061392</td>\n",
       "    </tr>\n",
       "    <tr>\n",
       "      <th>4</th>\n",
       "      <td>2017-06-01</td>\n",
       "      <td>4</td>\n",
       "      <td>909</td>\n",
       "      <td>13259</td>\n",
       "      <td>0.068557</td>\n",
       "    </tr>\n",
       "    <tr>\n",
       "      <th>5</th>\n",
       "      <td>2017-06-01</td>\n",
       "      <td>5</td>\n",
       "      <td>947</td>\n",
       "      <td>13259</td>\n",
       "      <td>0.071423</td>\n",
       "    </tr>\n",
       "    <tr>\n",
       "      <th>6</th>\n",
       "      <td>2017-06-01</td>\n",
       "      <td>6</td>\n",
       "      <td>809</td>\n",
       "      <td>13259</td>\n",
       "      <td>0.061015</td>\n",
       "    </tr>\n",
       "    <tr>\n",
       "      <th>7</th>\n",
       "      <td>2017-06-01</td>\n",
       "      <td>7</td>\n",
       "      <td>766</td>\n",
       "      <td>13259</td>\n",
       "      <td>0.057772</td>\n",
       "    </tr>\n",
       "    <tr>\n",
       "      <th>8</th>\n",
       "      <td>2017-06-01</td>\n",
       "      <td>8</td>\n",
       "      <td>694</td>\n",
       "      <td>13259</td>\n",
       "      <td>0.052342</td>\n",
       "    </tr>\n",
       "    <tr>\n",
       "      <th>9</th>\n",
       "      <td>2017-06-01</td>\n",
       "      <td>9</td>\n",
       "      <td>674</td>\n",
       "      <td>13259</td>\n",
       "      <td>0.050833</td>\n",
       "    </tr>\n",
       "    <tr>\n",
       "      <th>10</th>\n",
       "      <td>2017-06-01</td>\n",
       "      <td>10</td>\n",
       "      <td>539</td>\n",
       "      <td>13259</td>\n",
       "      <td>0.040652</td>\n",
       "    </tr>\n",
       "    <tr>\n",
       "      <th>11</th>\n",
       "      <td>2017-06-01</td>\n",
       "      <td>11</td>\n",
       "      <td>596</td>\n",
       "      <td>13259</td>\n",
       "      <td>0.044951</td>\n",
       "    </tr>\n",
       "  </tbody>\n",
       "</table>\n",
       "</div>"
      ],
      "text/plain": [
       "   first_activity_month  cohort_lifetime    uid  cohort_users  retention\n",
       "0            2017-06-01                0  13259         13259   1.000000\n",
       "1            2017-06-01                1   1043         13259   0.078664\n",
       "2            2017-06-01                2    713         13259   0.053775\n",
       "3            2017-06-01                3    814         13259   0.061392\n",
       "4            2017-06-01                4    909         13259   0.068557\n",
       "5            2017-06-01                5    947         13259   0.071423\n",
       "6            2017-06-01                6    809         13259   0.061015\n",
       "7            2017-06-01                7    766         13259   0.057772\n",
       "8            2017-06-01                8    694         13259   0.052342\n",
       "9            2017-06-01                9    674         13259   0.050833\n",
       "10           2017-06-01               10    539         13259   0.040652\n",
       "11           2017-06-01               11    596         13259   0.044951"
      ]
     },
     "execution_count": 50,
     "metadata": {},
     "output_type": "execute_result"
    }
   ],
   "source": [
    "cohorts.query('first_activity_month\t== \"2017-06-01\"')"
   ]
  },
  {
   "cell_type": "markdown",
   "metadata": {},
   "source": [
    "##### Построим сводную таблицу и создадим отчет."
   ]
  },
  {
   "cell_type": "code",
   "execution_count": 51,
   "metadata": {},
   "outputs": [],
   "source": [
    "retention_pivot = cohorts.query('cohort_lifetime > 0').pivot_table(index='first_activity_month',\n",
    "                                                                      columns='cohort_lifetime',\n",
    "                                                                      values='retention',aggfunc='sum')"
   ]
  },
  {
   "cell_type": "code",
   "execution_count": 52,
   "metadata": {},
   "outputs": [
    {
     "data": {
      "image/png": "[encoded data removed]",
      "text/plain": [
       "<Figure size 936x648 with 2 Axes>"
      ]
     },
     "metadata": {},
     "output_type": "display_data"
    }
   ],
   "source": [
    "sns.set(style='white')\n",
    "plt.figure(figsize=(13, 9))\n",
    "plt.title('Cohorts: User Retention')\n",
    "sns.heatmap(retention_pivot, annot=True, fmt='.1%', linewidths=1, linecolor='gray'); "
   ]
  },
  {
   "cell_type": "code",
   "execution_count": 53,
   "metadata": {},
   "outputs": [
    {
     "name": "stdout",
     "output_type": "stream",
     "text": [
      "Средний коэффициент удержания по второму месяцу жизни всех месячных когорт: 4.6%\n"
     ]
    }
   ],
   "source": [
    "print('Средний коэффициент удержания по второму месяцу жизни всех месячных когорт: {:.1%}'\n",
    "      .format(cohorts.query('cohort_lifetime == 2')['retention'].mean()))"
   ]
  },
  {
   "cell_type": "markdown",
   "metadata": {},
   "source": [
    "###### Процент заядлых театралов и любителй походов в кино совсем не велик. Есть месяцы, когда ни одного пользователя когорты не было замечено. \"Тепловая карта\" в ее классическом виде к сожалению не получилась."
   ]
  },
  {
   "cell_type": "markdown",
   "metadata": {},
   "source": [
    "### Выводы по продуктовым метрикам: <a id=\"prod_conc\"></a>\n",
    "\n",
    "##### Сколько людей пользуются в день, неделю, месяц?\n",
    "\n",
    "- В Яндекс.Афиша за период с 06-2017 по 05-2018 было ~228 тыс человек;\n",
    "- Средний DAU за период 907 человек;\n",
    "- Средний WAU за период 5716 человек;\n",
    "- Средний MAU за период 23228 человек;\n",
    "\n",
    "##### Сколько сессий в день?\n",
    "\n",
    "- Среднее количество сессий в день: 987, что сопоставимо со средне-дневным числом уникальных активных пользователей. Это значит, что большинство пользователей находят что искали с первого раза и в этот же день больше не возвращаются;\n",
    "\n",
    "##### Сколько длится одна сессия?\n",
    "\n",
    "- Среднее время сессии составляет (ASL): 60 секунд. Мы для расчета использовали моду, так как распределение времени сессий крайне ассиметрично.\n",
    "\n",
    "##### Как часто люди возвращаются?\n",
    "\n",
    "- Retention Rate показываает нам, что почти по всем месячным когортам после нулевого месяца на первый возвращается не более 8,5%. По некоторым когортам есть вообще пропуски, т.е. ни одного пользователя не пришло. Вместе с тем видно, что после привлечения новых пользователей процент возвратов более-менее стабильный. Мы думаем, что это связано со спецификой. В театры и на выставки каждый день редко кто ходит.\n"
   ]
  },
  {
   "cell_type": "markdown",
   "metadata": {},
   "source": [
    "### Метрики продаж: <a id=\"sales\"></a>"
   ]
  },
  {
   "cell_type": "markdown",
   "metadata": {},
   "source": [
    "###### Для начала сохраним еще одну копию таблицы orders . Она нам пригодится для расчета LTV."
   ]
  },
  {
   "cell_type": "code",
   "execution_count": 54,
   "metadata": {},
   "outputs": [],
   "source": [
    "orders_ltv = orders.copy()"
   ]
  },
  {
   "cell_type": "markdown",
   "metadata": {},
   "source": [
    "#####  Разберемся когда люди начинают покупать."
   ]
  },
  {
   "cell_type": "code",
   "execution_count": 55,
   "metadata": {},
   "outputs": [
    {
     "data": {
      "text/html": [
       "<div>\n",
       "<style scoped>\n",
       "    .dataframe tbody tr th:only-of-type {\n",
       "        vertical-align: middle;\n",
       "    }\n",
       "\n",
       "    .dataframe tbody tr th {\n",
       "        vertical-align: top;\n",
       "    }\n",
       "\n",
       "    .dataframe thead th {\n",
       "        text-align: right;\n",
       "    }\n",
       "</style>\n",
       "<table border=\"1\" class=\"dataframe\">\n",
       "  <thead>\n",
       "    <tr style=\"text-align: right;\">\n",
       "      <th></th>\n",
       "      <th>buy ts</th>\n",
       "      <th>revenue</th>\n",
       "      <th>uid</th>\n",
       "    </tr>\n",
       "  </thead>\n",
       "  <tbody>\n",
       "    <tr>\n",
       "      <th>0</th>\n",
       "      <td>2017-06-01 00:10:00</td>\n",
       "      <td>17.00</td>\n",
       "      <td>10329302124590727494</td>\n",
       "    </tr>\n",
       "    <tr>\n",
       "      <th>1</th>\n",
       "      <td>2017-06-01 00:25:00</td>\n",
       "      <td>0.55</td>\n",
       "      <td>11627257723692907447</td>\n",
       "    </tr>\n",
       "    <tr>\n",
       "      <th>2</th>\n",
       "      <td>2017-06-01 00:27:00</td>\n",
       "      <td>0.37</td>\n",
       "      <td>17903680561304213844</td>\n",
       "    </tr>\n",
       "    <tr>\n",
       "      <th>3</th>\n",
       "      <td>2017-06-01 00:29:00</td>\n",
       "      <td>0.55</td>\n",
       "      <td>16109239769442553005</td>\n",
       "    </tr>\n",
       "    <tr>\n",
       "      <th>4</th>\n",
       "      <td>2017-06-01 07:58:00</td>\n",
       "      <td>0.37</td>\n",
       "      <td>14200605875248379450</td>\n",
       "    </tr>\n",
       "  </tbody>\n",
       "</table>\n",
       "</div>"
      ],
      "text/plain": [
       "               buy ts  revenue                   uid\n",
       "0 2017-06-01 00:10:00    17.00  10329302124590727494\n",
       "1 2017-06-01 00:25:00     0.55  11627257723692907447\n",
       "2 2017-06-01 00:27:00     0.37  17903680561304213844\n",
       "3 2017-06-01 00:29:00     0.55  16109239769442553005\n",
       "4 2017-06-01 07:58:00     0.37  14200605875248379450"
      ]
     },
     "metadata": {},
     "output_type": "display_data"
    }
   ],
   "source": [
    "display(orders.head(5))"
   ]
  },
  {
   "cell_type": "markdown",
   "metadata": {},
   "source": [
    "##### Найдем дату первой покупки по каждому пользователю."
   ]
  },
  {
   "cell_type": "code",
   "execution_count": 56,
   "metadata": {},
   "outputs": [],
   "source": [
    "orders['date'] = orders['buy ts'].dt.date\n",
    "first_order_date = orders.groupby(['uid'])['date'].min()\n",
    "first_order_date.name = 'first_order_date'"
   ]
  },
  {
   "cell_type": "markdown",
   "metadata": {},
   "source": [
    "##### Добавим к изначальному датафрейму с покупками столбец с первой покупкой и датой первой сессии, рассчитанную ранее."
   ]
  },
  {
   "cell_type": "code",
   "execution_count": 57,
   "metadata": {},
   "outputs": [],
   "source": [
    "orders = orders.join(first_order_date,on='uid')"
   ]
  },
  {
   "cell_type": "code",
   "execution_count": 58,
   "metadata": {},
   "outputs": [],
   "source": [
    "orders = orders.join(first_activity_date,on='uid')"
   ]
  },
  {
   "cell_type": "markdown",
   "metadata": {},
   "source": [
    "##### Посчитаем разницу между датой первой покупки и первой сессии"
   ]
  },
  {
   "cell_type": "code",
   "execution_count": 59,
   "metadata": {},
   "outputs": [],
   "source": [
    "orders['first_order_date'] = pd.to_datetime(orders['first_order_date'])\n",
    "orders['from_act_to_ord'] = pd.to_datetime(orders['first_order_date'], unit='d') - \\\n",
    "                            pd.to_datetime(orders['first_activity_date'], unit='d')"
   ]
  },
  {
   "cell_type": "code",
   "execution_count": 60,
   "metadata": {},
   "outputs": [],
   "source": [
    "orders['from_act_to_ord'] = orders['from_act_to_ord'] / np.timedelta64(1,'D')"
   ]
  },
  {
   "cell_type": "markdown",
   "metadata": {},
   "source": [
    "##### Посчитаем среднее кол-во дней от первой сессии пользователя до первой покупки."
   ]
  },
  {
   "cell_type": "code",
   "execution_count": 61,
   "metadata": {},
   "outputs": [],
   "source": [
    "orders_unique_uid = orders[['uid', 'from_act_to_ord']]\n",
    "orders_unique_uid = orders_unique_uid.drop_duplicates()"
   ]
  },
  {
   "cell_type": "code",
   "execution_count": 62,
   "metadata": {},
   "outputs": [
    {
     "name": "stdout",
     "output_type": "stream",
     "text": [
      "Средняя количество дней от первой сессии до первой покупки: 16 дней.\n",
      "Медианное количество дней от первой сессии до первой покупки: 0 дней.\n",
      "Мода количества дней от первой сессии до первой покупки (наиболее встречающаяся кол-во дней): 0 дней.\n"
     ]
    }
   ],
   "source": [
    "print('Средняя количество дней от первой сессии до первой покупки:', int(orders_unique_uid['from_act_to_ord'].mean()), 'дней.')\n",
    "print('Медианное количество дней от первой сессии до первой покупки:', int(orders_unique_uid['from_act_to_ord'].median()), 'дней.')\n",
    "print('Мода количества дней от первой сессии до первой покупки (наиболее встречающаяся кол-во дней):',\n",
    "                                      int(orders_unique_uid['from_act_to_ord'].mode()[0]), 'дней.')"
   ]
  },
  {
   "cell_type": "markdown",
   "metadata": {},
   "source": [
    "##### Нулевая мода и медиана говорят о том, что многие пользватели делают покупку в первый день посещения ресурса. Проверим."
   ]
  },
  {
   "cell_type": "code",
   "execution_count": 63,
   "metadata": {
    "scrolled": true
   },
   "outputs": [
    {
     "data": {
      "image/png": "[encoded data removed]",
      "text/plain": [
       "<Figure size 432x432 with 1 Axes>"
      ]
     },
     "metadata": {},
     "output_type": "display_data"
    }
   ],
   "source": [
    "plt.figure(figsize=(6,6))\n",
    "plt.hist(orders_unique_uid['from_act_to_ord'], bins=10, color = 'r')\n",
    "        \n",
    "plt.grid(True)\n",
    "plt.title('Average number of days from first session to first order')\n",
    "plt.xlabel('Orders, days')\n",
    "plt.ylabel('Frequency')\n",
    "plt.show()"
   ]
  },
  {
   "cell_type": "markdown",
   "metadata": {},
   "source": [
    "##### Так и есть. В левой части графика сосредоточено большая часть всех покупок."
   ]
  },
  {
   "cell_type": "markdown",
   "metadata": {},
   "source": [
    "##### Посмотрим сколько раз пользователи сервиса покупали за период."
   ]
  },
  {
   "cell_type": "markdown",
   "metadata": {},
   "source": [
    "###### Для начала сгруппируем количество покупок по каждому юзеру."
   ]
  },
  {
   "cell_type": "code",
   "execution_count": 64,
   "metadata": {},
   "outputs": [],
   "source": [
    "order_cnt = orders.groupby(['uid'])['buy ts'].count().sort_values(ascending=False).reset_index()\n",
    "order_cnt.columns = ['uid', 'cnt_ordets']"
   ]
  },
  {
   "cell_type": "markdown",
   "metadata": {},
   "source": [
    "###### Посмотрим на Топ-10 самых-самых:-)"
   ]
  },
  {
   "cell_type": "code",
   "execution_count": 65,
   "metadata": {},
   "outputs": [
    {
     "data": {
      "text/html": [
       "<div>\n",
       "<style scoped>\n",
       "    .dataframe tbody tr th:only-of-type {\n",
       "        vertical-align: middle;\n",
       "    }\n",
       "\n",
       "    .dataframe tbody tr th {\n",
       "        vertical-align: top;\n",
       "    }\n",
       "\n",
       "    .dataframe thead th {\n",
       "        text-align: right;\n",
       "    }\n",
       "</style>\n",
       "<table border=\"1\" class=\"dataframe\">\n",
       "  <thead>\n",
       "    <tr style=\"text-align: right;\">\n",
       "      <th></th>\n",
       "      <th>uid</th>\n",
       "      <th>cnt_ordets</th>\n",
       "    </tr>\n",
       "  </thead>\n",
       "  <tbody>\n",
       "    <tr>\n",
       "      <th>0</th>\n",
       "      <td>3644482766749211722</td>\n",
       "      <td>239</td>\n",
       "    </tr>\n",
       "    <tr>\n",
       "      <th>1</th>\n",
       "      <td>13888745432979765063</td>\n",
       "      <td>238</td>\n",
       "    </tr>\n",
       "    <tr>\n",
       "      <th>2</th>\n",
       "      <td>11920452646463905188</td>\n",
       "      <td>227</td>\n",
       "    </tr>\n",
       "    <tr>\n",
       "      <th>3</th>\n",
       "      <td>6731421022966725351</td>\n",
       "      <td>183</td>\n",
       "    </tr>\n",
       "    <tr>\n",
       "      <th>4</th>\n",
       "      <td>3501596628378158474</td>\n",
       "      <td>150</td>\n",
       "    </tr>\n",
       "    <tr>\n",
       "      <th>5</th>\n",
       "      <td>5139615590553126732</td>\n",
       "      <td>150</td>\n",
       "    </tr>\n",
       "    <tr>\n",
       "      <th>6</th>\n",
       "      <td>3263486045884611639</td>\n",
       "      <td>131</td>\n",
       "    </tr>\n",
       "    <tr>\n",
       "      <th>7</th>\n",
       "      <td>10343016064897450067</td>\n",
       "      <td>127</td>\n",
       "    </tr>\n",
       "    <tr>\n",
       "      <th>8</th>\n",
       "      <td>10116135452198588850</td>\n",
       "      <td>124</td>\n",
       "    </tr>\n",
       "    <tr>\n",
       "      <th>9</th>\n",
       "      <td>6166747268563050393</td>\n",
       "      <td>117</td>\n",
       "    </tr>\n",
       "  </tbody>\n",
       "</table>\n",
       "</div>"
      ],
      "text/plain": [
       "                    uid  cnt_ordets\n",
       "0   3644482766749211722         239\n",
       "1  13888745432979765063         238\n",
       "2  11920452646463905188         227\n",
       "3   6731421022966725351         183\n",
       "4   3501596628378158474         150\n",
       "5   5139615590553126732         150\n",
       "6   3263486045884611639         131\n",
       "7  10343016064897450067         127\n",
       "8  10116135452198588850         124\n",
       "9   6166747268563050393         117"
      ]
     },
     "metadata": {},
     "output_type": "display_data"
    }
   ],
   "source": [
    "display(order_cnt.head(10))"
   ]
  },
  {
   "cell_type": "markdown",
   "metadata": {},
   "source": [
    "######  Посчитаем среднее количество покупок."
   ]
  },
  {
   "cell_type": "code",
   "execution_count": 66,
   "metadata": {},
   "outputs": [
    {
     "name": "stdout",
     "output_type": "stream",
     "text": [
      "Среднее количество покупок: 1 шт.\n",
      "Медианное количество покупок: 1 шт.\n",
      "Мода количества покупок: 1 шт.\n"
     ]
    }
   ],
   "source": [
    "print('Среднее количество покупок:', int(order_cnt['cnt_ordets'].mean()),'шт.')\n",
    "print('Медианное количество покупок:', int(order_cnt['cnt_ordets'].median()),'шт.')\n",
    "print('Мода количества покупок:', int(order_cnt['cnt_ordets'].mode()[0]),'шт.')"
   ]
  },
  {
   "cell_type": "markdown",
   "metadata": {},
   "source": [
    "######  Посмотрим на распределение."
   ]
  },
  {
   "cell_type": "code",
   "execution_count": 67,
   "metadata": {},
   "outputs": [
    {
     "data": {
      "image/png": "[encoded data removed]",
      "text/plain": [
       "<Figure size 432x432 with 1 Axes>"
      ]
     },
     "metadata": {},
     "output_type": "display_data"
    }
   ],
   "source": [
    "plt.figure(figsize=(6,6))\n",
    "plt.hist(order_cnt['cnt_ordets'], bins=20, color = 'r')\n",
    "        \n",
    "plt.grid(True)\n",
    "plt.title('Average number of orders')\n",
    "plt.xlabel('Orders')\n",
    "plt.ylabel('Frequency')\n",
    "plt.show()"
   ]
  },
  {
   "cell_type": "markdown",
   "metadata": {},
   "source": [
    "###### Такой график нам говорит лишь о том, что люди покупали в основном не более 10 раз. Посмотрим чуть ближе на тех, кто покупал больше 5 раз."
   ]
  },
  {
   "cell_type": "code",
   "execution_count": 68,
   "metadata": {},
   "outputs": [
    {
     "data": {
      "image/png": "[encoded data removed]",
      "text/plain": [
       "<Figure size 432x432 with 1 Axes>"
      ]
     },
     "metadata": {},
     "output_type": "display_data"
    }
   ],
   "source": [
    "plt.figure(figsize=(6,6))\n",
    "bins = np.linspace(5, 250, 20)  \n",
    "plt.hist(order_cnt['cnt_ordets'], bins=bins, color = 'r')\n",
    "      \n",
    "plt.grid(True)\n",
    "plt.title('Average number of orders')\n",
    "plt.xlabel('Orders')\n",
    "plt.ylabel('Frequency')\n",
    "plt.show()"
   ]
  },
  {
   "cell_type": "markdown",
   "metadata": {},
   "source": [
    "#### Все таки поход на платное мероприятия - это не за пакетом молока сходить в магазин. Такое случается В жизни наших пользователей намного реже. Заядлых любителей посещать театры, выставки и закрытые показы за деньги часто- единицы."
   ]
  },
  {
   "cell_type": "markdown",
   "metadata": {},
   "source": [
    "##### Посчитаем средний чек заказа."
   ]
  },
  {
   "cell_type": "code",
   "execution_count": 69,
   "metadata": {},
   "outputs": [
    {
     "data": {
      "text/html": [
       "<div>\n",
       "<style scoped>\n",
       "    .dataframe tbody tr th:only-of-type {\n",
       "        vertical-align: middle;\n",
       "    }\n",
       "\n",
       "    .dataframe tbody tr th {\n",
       "        vertical-align: top;\n",
       "    }\n",
       "\n",
       "    .dataframe thead th {\n",
       "        text-align: right;\n",
       "    }\n",
       "</style>\n",
       "<table border=\"1\" class=\"dataframe\">\n",
       "  <thead>\n",
       "    <tr style=\"text-align: right;\">\n",
       "      <th></th>\n",
       "      <th>buy ts</th>\n",
       "      <th>revenue</th>\n",
       "      <th>uid</th>\n",
       "      <th>date</th>\n",
       "      <th>first_order_date</th>\n",
       "      <th>first_activity_date</th>\n",
       "      <th>from_act_to_ord</th>\n",
       "    </tr>\n",
       "  </thead>\n",
       "  <tbody>\n",
       "    <tr>\n",
       "      <th>19053</th>\n",
       "      <td>2017-11-24 00:36:00</td>\n",
       "      <td>0.33</td>\n",
       "      <td>520969251899509611</td>\n",
       "      <td>2017-11-24</td>\n",
       "      <td>2017-11-24</td>\n",
       "      <td>2017-11-23</td>\n",
       "      <td>1.0</td>\n",
       "    </tr>\n",
       "    <tr>\n",
       "      <th>43253</th>\n",
       "      <td>2018-04-06 09:53:00</td>\n",
       "      <td>5.87</td>\n",
       "      <td>9683623957060145729</td>\n",
       "      <td>2018-04-06</td>\n",
       "      <td>2018-04-06</td>\n",
       "      <td>2017-11-11</td>\n",
       "      <td>146.0</td>\n",
       "    </tr>\n",
       "    <tr>\n",
       "      <th>26078</th>\n",
       "      <td>2017-12-26 09:22:00</td>\n",
       "      <td>6.42</td>\n",
       "      <td>7194616172298584960</td>\n",
       "      <td>2017-12-26</td>\n",
       "      <td>2017-12-24</td>\n",
       "      <td>2017-11-24</td>\n",
       "      <td>30.0</td>\n",
       "    </tr>\n",
       "    <tr>\n",
       "      <th>21704</th>\n",
       "      <td>2017-12-03 18:44:00</td>\n",
       "      <td>0.73</td>\n",
       "      <td>8045011208773080359</td>\n",
       "      <td>2017-12-03</td>\n",
       "      <td>2017-12-03</td>\n",
       "      <td>2017-12-01</td>\n",
       "      <td>2.0</td>\n",
       "    </tr>\n",
       "    <tr>\n",
       "      <th>11123</th>\n",
       "      <td>2017-10-06 14:08:00</td>\n",
       "      <td>0.98</td>\n",
       "      <td>6623872034706041753</td>\n",
       "      <td>2017-10-06</td>\n",
       "      <td>2017-10-06</td>\n",
       "      <td>2017-10-06</td>\n",
       "      <td>0.0</td>\n",
       "    </tr>\n",
       "  </tbody>\n",
       "</table>\n",
       "</div>"
      ],
      "text/plain": [
       "                   buy ts  revenue                  uid        date  \\\n",
       "19053 2017-11-24 00:36:00     0.33   520969251899509611  2017-11-24   \n",
       "43253 2018-04-06 09:53:00     5.87  9683623957060145729  2018-04-06   \n",
       "26078 2017-12-26 09:22:00     6.42  7194616172298584960  2017-12-26   \n",
       "21704 2017-12-03 18:44:00     0.73  8045011208773080359  2017-12-03   \n",
       "11123 2017-10-06 14:08:00     0.98  6623872034706041753  2017-10-06   \n",
       "\n",
       "      first_order_date first_activity_date  from_act_to_ord  \n",
       "19053       2017-11-24          2017-11-23              1.0  \n",
       "43253       2018-04-06          2017-11-11            146.0  \n",
       "26078       2017-12-24          2017-11-24             30.0  \n",
       "21704       2017-12-03          2017-12-01              2.0  \n",
       "11123       2017-10-06          2017-10-06              0.0  "
      ]
     },
     "execution_count": 69,
     "metadata": {},
     "output_type": "execute_result"
    }
   ],
   "source": [
    "orders.sample(5)"
   ]
  },
  {
   "cell_type": "markdown",
   "metadata": {},
   "source": [
    "##### Мы предполагаем, что выручка в столбце указана в тысячах рублей. Иначе это какой-то советский прайс."
   ]
  },
  {
   "cell_type": "code",
   "execution_count": 70,
   "metadata": {},
   "outputs": [
    {
     "name": "stdout",
     "output_type": "stream",
     "text": [
      "Средний чек: 5 тыс. руб.\n"
     ]
    }
   ],
   "source": [
    "print('Средний чек: {:.0f} тыс. руб.'.format(orders['revenue'].mean()))"
   ]
  },
  {
   "cell_type": "markdown",
   "metadata": {},
   "source": [
    "##### Посмотрим на минимальную и максимальную сумму заказа."
   ]
  },
  {
   "cell_type": "code",
   "execution_count": 71,
   "metadata": {},
   "outputs": [
    {
     "data": {
      "text/plain": [
       "0.0"
      ]
     },
     "execution_count": 71,
     "metadata": {},
     "output_type": "execute_result"
    }
   ],
   "source": [
    "orders['revenue'].min()"
   ]
  },
  {
   "cell_type": "code",
   "execution_count": 72,
   "metadata": {},
   "outputs": [
    {
     "data": {
      "text/plain": [
       "2633.28"
      ]
     },
     "execution_count": 72,
     "metadata": {},
     "output_type": "execute_result"
    }
   ],
   "source": [
    "orders['revenue'].max()"
   ]
  },
  {
   "cell_type": "markdown",
   "metadata": {},
   "source": [
    "##### У нас есть нулевые заказы. Скорее всего это билеты по акции. Проверим сколько таких заказов у нас было. Так как, если таких заказов много это отразится на среднем чеке."
   ]
  },
  {
   "cell_type": "code",
   "execution_count": 73,
   "metadata": {},
   "outputs": [
    {
     "data": {
      "text/plain": [
       "51"
      ]
     },
     "execution_count": 73,
     "metadata": {},
     "output_type": "execute_result"
    }
   ],
   "source": [
    "orders.query('revenue == 0')['revenue'].count()"
   ]
  },
  {
   "cell_type": "markdown",
   "metadata": {},
   "source": [
    "##### Всего 51 заказа из более чем 30 тыс заказов. Это погрешность и расчетам мешать не будет."
   ]
  },
  {
   "cell_type": "markdown",
   "metadata": {},
   "source": [
    "##### Посмотрим как средний чек менялся за весь период."
   ]
  },
  {
   "cell_type": "code",
   "execution_count": 74,
   "metadata": {},
   "outputs": [],
   "source": [
    "orders['month_year'] = pd.to_datetime(orders['buy ts']).dt.to_period('M')"
   ]
  },
  {
   "cell_type": "code",
   "execution_count": 75,
   "metadata": {},
   "outputs": [],
   "source": [
    "orders_av_check = orders.groupby(['month_year'])['revenue'].mean().reset_index()\n",
    "orders_av_check.columns = ['month_year', 'av_revenue']"
   ]
  },
  {
   "cell_type": "code",
   "execution_count": 76,
   "metadata": {},
   "outputs": [
    {
     "data": {
      "image/png": "[encoded data removed]",
      "text/plain": [
       "<Figure size 1296x432 with 1 Axes>"
      ]
     },
     "metadata": {},
     "output_type": "display_data"
    }
   ],
   "source": [
    "x = np.arange(0,len(orders_av_check),1)\n",
    "fig, ax = plt.subplots(figsize=(18,6))\n",
    "ax.plot(x,orders_av_check['av_revenue'], color = 'r', linewidth = 2)\n",
    "ax.set_xticks(x)\n",
    "ax.set_xticklabels(orders_av_check['month_year'])\n",
    "\n",
    "plt.grid(True)\n",
    "plt.title('Average check')\n",
    "plt.xlabel('Month_year')\n",
    "plt.ylabel('Th. of Rubles')\n",
    "plt.show()"
   ]
  },
  {
   "cell_type": "markdown",
   "metadata": {},
   "source": [
    "###### Самый большой средний чек приходится на декабрь, а самый маленький на январь и июнь обоих лет. Мы можем сделать вывод, что люди охотнее тратят больше денег на походы по культурным местам перед Новым Годом, а летом предпочитают пляж и парки:-) Ну и,как правило, летом у театров каникулы."
   ]
  },
  {
   "cell_type": "markdown",
   "metadata": {},
   "source": [
    "##### Теперь посчитаем средний чек по каждой месячной когорте, чтобы взяглянуть на то как меняется поведение покупаталей с ходом времени.\n",
    "   "
   ]
  },
  {
   "cell_type": "code",
   "execution_count": 77,
   "metadata": {},
   "outputs": [
    {
     "data": {
      "text/html": [
       "<div>\n",
       "<style scoped>\n",
       "    .dataframe tbody tr th:only-of-type {\n",
       "        vertical-align: middle;\n",
       "    }\n",
       "\n",
       "    .dataframe tbody tr th {\n",
       "        vertical-align: top;\n",
       "    }\n",
       "\n",
       "    .dataframe thead th {\n",
       "        text-align: right;\n",
       "    }\n",
       "</style>\n",
       "<table border=\"1\" class=\"dataframe\">\n",
       "  <thead>\n",
       "    <tr style=\"text-align: right;\">\n",
       "      <th></th>\n",
       "      <th>buy ts</th>\n",
       "      <th>revenue</th>\n",
       "      <th>uid</th>\n",
       "      <th>date</th>\n",
       "      <th>first_order_date</th>\n",
       "      <th>first_activity_date</th>\n",
       "      <th>from_act_to_ord</th>\n",
       "      <th>month_year</th>\n",
       "    </tr>\n",
       "  </thead>\n",
       "  <tbody>\n",
       "    <tr>\n",
       "      <th>0</th>\n",
       "      <td>2017-06-01 00:10:00</td>\n",
       "      <td>17.00</td>\n",
       "      <td>10329302124590727494</td>\n",
       "      <td>2017-06-01</td>\n",
       "      <td>2017-06-01</td>\n",
       "      <td>2017-06-01</td>\n",
       "      <td>0.0</td>\n",
       "      <td>2017-06</td>\n",
       "    </tr>\n",
       "    <tr>\n",
       "      <th>1</th>\n",
       "      <td>2017-06-01 00:25:00</td>\n",
       "      <td>0.55</td>\n",
       "      <td>11627257723692907447</td>\n",
       "      <td>2017-06-01</td>\n",
       "      <td>2017-06-01</td>\n",
       "      <td>2017-06-01</td>\n",
       "      <td>0.0</td>\n",
       "      <td>2017-06</td>\n",
       "    </tr>\n",
       "    <tr>\n",
       "      <th>2</th>\n",
       "      <td>2017-06-01 00:27:00</td>\n",
       "      <td>0.37</td>\n",
       "      <td>17903680561304213844</td>\n",
       "      <td>2017-06-01</td>\n",
       "      <td>2017-06-01</td>\n",
       "      <td>2017-06-01</td>\n",
       "      <td>0.0</td>\n",
       "      <td>2017-06</td>\n",
       "    </tr>\n",
       "    <tr>\n",
       "      <th>3</th>\n",
       "      <td>2017-06-01 00:29:00</td>\n",
       "      <td>0.55</td>\n",
       "      <td>16109239769442553005</td>\n",
       "      <td>2017-06-01</td>\n",
       "      <td>2017-06-01</td>\n",
       "      <td>2017-06-01</td>\n",
       "      <td>0.0</td>\n",
       "      <td>2017-06</td>\n",
       "    </tr>\n",
       "    <tr>\n",
       "      <th>4</th>\n",
       "      <td>2017-06-01 07:58:00</td>\n",
       "      <td>0.37</td>\n",
       "      <td>14200605875248379450</td>\n",
       "      <td>2017-06-01</td>\n",
       "      <td>2017-06-01</td>\n",
       "      <td>2017-06-01</td>\n",
       "      <td>0.0</td>\n",
       "      <td>2017-06</td>\n",
       "    </tr>\n",
       "  </tbody>\n",
       "</table>\n",
       "</div>"
      ],
      "text/plain": [
       "               buy ts  revenue                   uid        date  \\\n",
       "0 2017-06-01 00:10:00    17.00  10329302124590727494  2017-06-01   \n",
       "1 2017-06-01 00:25:00     0.55  11627257723692907447  2017-06-01   \n",
       "2 2017-06-01 00:27:00     0.37  17903680561304213844  2017-06-01   \n",
       "3 2017-06-01 00:29:00     0.55  16109239769442553005  2017-06-01   \n",
       "4 2017-06-01 07:58:00     0.37  14200605875248379450  2017-06-01   \n",
       "\n",
       "  first_order_date first_activity_date  from_act_to_ord month_year  \n",
       "0       2017-06-01          2017-06-01              0.0    2017-06  \n",
       "1       2017-06-01          2017-06-01              0.0    2017-06  \n",
       "2       2017-06-01          2017-06-01              0.0    2017-06  \n",
       "3       2017-06-01          2017-06-01              0.0    2017-06  \n",
       "4       2017-06-01          2017-06-01              0.0    2017-06  "
      ]
     },
     "execution_count": 77,
     "metadata": {},
     "output_type": "execute_result"
    }
   ],
   "source": [
    "orders.head()"
   ]
  },
  {
   "cell_type": "code",
   "execution_count": 78,
   "metadata": {},
   "outputs": [
    {
     "name": "stdout",
     "output_type": "stream",
     "text": [
      "                               revenue   uid\n",
      "first_order_month order_month               \n",
      "2017-06-01        2017-06-01   9557.49  2023\n",
      "                  2017-07-01    981.82    61\n",
      "                  2017-08-01    885.34    50\n",
      "                  2017-09-01   1931.30    54\n",
      "                  2017-10-01   2068.58    88\n"
     ]
    }
   ],
   "source": [
    "first_order_date_by_customers = orders.groupby('uid')['buy ts'].min()\n",
    "first_order_date_by_customers.name = 'first_order_date'\n",
    "\n",
    "orders['first_order_month'] = orders['first_order_date'].astype('datetime64[M]')\n",
    "orders['order_month'] = orders['buy ts'].astype('datetime64[M]')\n",
    "\n",
    "orders_grouped_by_cohorts = orders.groupby(['first_order_month','order_month']).agg({'revenue':'sum','uid':'nunique'})\n",
    "print(orders_grouped_by_cohorts.head()) "
   ]
  },
  {
   "cell_type": "markdown",
   "metadata": {},
   "source": [
    "##### Найдём средний чек покупателя revenue_per_user — разделим показатель `revenue_th` на `uid`."
   ]
  },
  {
   "cell_type": "code",
   "execution_count": 79,
   "metadata": {},
   "outputs": [],
   "source": [
    "orders_grouped_by_cohorts['revenue_per_user'] = \\\n",
    "                    orders_grouped_by_cohorts['revenue'] / orders_grouped_by_cohorts['uid'] "
   ]
  },
  {
   "cell_type": "markdown",
   "metadata": {},
   "source": [
    "###### Построим сводную таблицу изменения среднего чека в когортах по месяцу совершения покупки и оценим, как изменяется средний чек с течением времени."
   ]
  },
  {
   "cell_type": "code",
   "execution_count": 80,
   "metadata": {},
   "outputs": [
    {
     "data": {
      "text/html": [
       "<div>\n",
       "<style scoped>\n",
       "    .dataframe tbody tr th:only-of-type {\n",
       "        vertical-align: middle;\n",
       "    }\n",
       "\n",
       "    .dataframe tbody tr th {\n",
       "        vertical-align: top;\n",
       "    }\n",
       "\n",
       "    .dataframe thead th {\n",
       "        text-align: right;\n",
       "    }\n",
       "</style>\n",
       "<table border=\"1\" class=\"dataframe\">\n",
       "  <thead>\n",
       "    <tr style=\"text-align: right;\">\n",
       "      <th>order_month</th>\n",
       "      <th>2017-06-01</th>\n",
       "      <th>2017-07-01</th>\n",
       "      <th>2017-08-01</th>\n",
       "      <th>2017-09-01</th>\n",
       "      <th>2017-10-01</th>\n",
       "      <th>2017-11-01</th>\n",
       "      <th>2017-12-01</th>\n",
       "      <th>2018-01-01</th>\n",
       "      <th>2018-02-01</th>\n",
       "      <th>2018-03-01</th>\n",
       "      <th>2018-04-01</th>\n",
       "      <th>2018-05-01</th>\n",
       "      <th>2018-06-01</th>\n",
       "    </tr>\n",
       "    <tr>\n",
       "      <th>first_order_month</th>\n",
       "      <th></th>\n",
       "      <th></th>\n",
       "      <th></th>\n",
       "      <th></th>\n",
       "      <th></th>\n",
       "      <th></th>\n",
       "      <th></th>\n",
       "      <th></th>\n",
       "      <th></th>\n",
       "      <th></th>\n",
       "      <th></th>\n",
       "      <th></th>\n",
       "      <th></th>\n",
       "    </tr>\n",
       "  </thead>\n",
       "  <tbody>\n",
       "    <tr>\n",
       "      <th>2017-06-01</th>\n",
       "      <td>4.724414</td>\n",
       "      <td>16.095410</td>\n",
       "      <td>17.706800</td>\n",
       "      <td>35.764815</td>\n",
       "      <td>23.506591</td>\n",
       "      <td>22.207761</td>\n",
       "      <td>31.011935</td>\n",
       "      <td>25.033191</td>\n",
       "      <td>19.295690</td>\n",
       "      <td>27.233556</td>\n",
       "      <td>25.681333</td>\n",
       "      <td>9.804151</td>\n",
       "      <td>NaN</td>\n",
       "    </tr>\n",
       "    <tr>\n",
       "      <th>2017-07-01</th>\n",
       "      <td>NaN</td>\n",
       "      <td>6.010218</td>\n",
       "      <td>12.396346</td>\n",
       "      <td>21.035965</td>\n",
       "      <td>10.786094</td>\n",
       "      <td>6.938163</td>\n",
       "      <td>7.896842</td>\n",
       "      <td>6.421111</td>\n",
       "      <td>6.992821</td>\n",
       "      <td>7.382143</td>\n",
       "      <td>12.861818</td>\n",
       "      <td>11.513846</td>\n",
       "      <td>NaN</td>\n",
       "    </tr>\n",
       "    <tr>\n",
       "      <th>2017-08-01</th>\n",
       "      <td>NaN</td>\n",
       "      <td>NaN</td>\n",
       "      <td>5.276518</td>\n",
       "      <td>11.148793</td>\n",
       "      <td>11.851321</td>\n",
       "      <td>12.182955</td>\n",
       "      <td>16.921250</td>\n",
       "      <td>12.139063</td>\n",
       "      <td>9.620333</td>\n",
       "      <td>12.610455</td>\n",
       "      <td>21.070000</td>\n",
       "      <td>8.307419</td>\n",
       "      <td>NaN</td>\n",
       "    </tr>\n",
       "    <tr>\n",
       "      <th>2017-09-01</th>\n",
       "      <td>NaN</td>\n",
       "      <td>NaN</td>\n",
       "      <td>NaN</td>\n",
       "      <td>5.644529</td>\n",
       "      <td>22.188385</td>\n",
       "      <td>13.445200</td>\n",
       "      <td>138.669189</td>\n",
       "      <td>19.881538</td>\n",
       "      <td>26.095000</td>\n",
       "      <td>27.437121</td>\n",
       "      <td>16.961351</td>\n",
       "      <td>11.044651</td>\n",
       "      <td>NaN</td>\n",
       "    </tr>\n",
       "    <tr>\n",
       "      <th>2017-10-01</th>\n",
       "      <td>NaN</td>\n",
       "      <td>NaN</td>\n",
       "      <td>NaN</td>\n",
       "      <td>NaN</td>\n",
       "      <td>5.003733</td>\n",
       "      <td>11.287427</td>\n",
       "      <td>6.753252</td>\n",
       "      <td>7.413152</td>\n",
       "      <td>7.072796</td>\n",
       "      <td>7.255139</td>\n",
       "      <td>6.573214</td>\n",
       "      <td>7.479701</td>\n",
       "      <td>NaN</td>\n",
       "    </tr>\n",
       "    <tr>\n",
       "      <th>2017-11-01</th>\n",
       "      <td>NaN</td>\n",
       "      <td>NaN</td>\n",
       "      <td>NaN</td>\n",
       "      <td>NaN</td>\n",
       "      <td>NaN</td>\n",
       "      <td>5.154683</td>\n",
       "      <td>7.339054</td>\n",
       "      <td>6.786583</td>\n",
       "      <td>12.510660</td>\n",
       "      <td>7.457284</td>\n",
       "      <td>4.580833</td>\n",
       "      <td>7.564839</td>\n",
       "      <td>NaN</td>\n",
       "    </tr>\n",
       "    <tr>\n",
       "      <th>2017-12-01</th>\n",
       "      <td>NaN</td>\n",
       "      <td>NaN</td>\n",
       "      <td>NaN</td>\n",
       "      <td>NaN</td>\n",
       "      <td>NaN</td>\n",
       "      <td>NaN</td>\n",
       "      <td>4.738191</td>\n",
       "      <td>7.816575</td>\n",
       "      <td>39.366019</td>\n",
       "      <td>48.135052</td>\n",
       "      <td>27.431400</td>\n",
       "      <td>23.518413</td>\n",
       "      <td>NaN</td>\n",
       "    </tr>\n",
       "    <tr>\n",
       "      <th>2018-01-01</th>\n",
       "      <td>NaN</td>\n",
       "      <td>NaN</td>\n",
       "      <td>NaN</td>\n",
       "      <td>NaN</td>\n",
       "      <td>NaN</td>\n",
       "      <td>NaN</td>\n",
       "      <td>NaN</td>\n",
       "      <td>4.135636</td>\n",
       "      <td>8.721228</td>\n",
       "      <td>12.365542</td>\n",
       "      <td>11.199767</td>\n",
       "      <td>4.699556</td>\n",
       "      <td>NaN</td>\n",
       "    </tr>\n",
       "    <tr>\n",
       "      <th>2018-02-01</th>\n",
       "      <td>NaN</td>\n",
       "      <td>NaN</td>\n",
       "      <td>NaN</td>\n",
       "      <td>NaN</td>\n",
       "      <td>NaN</td>\n",
       "      <td>NaN</td>\n",
       "      <td>NaN</td>\n",
       "      <td>NaN</td>\n",
       "      <td>4.156987</td>\n",
       "      <td>8.610000</td>\n",
       "      <td>4.942414</td>\n",
       "      <td>6.941026</td>\n",
       "      <td>NaN</td>\n",
       "    </tr>\n",
       "    <tr>\n",
       "      <th>2018-03-01</th>\n",
       "      <td>NaN</td>\n",
       "      <td>NaN</td>\n",
       "      <td>NaN</td>\n",
       "      <td>NaN</td>\n",
       "      <td>NaN</td>\n",
       "      <td>NaN</td>\n",
       "      <td>NaN</td>\n",
       "      <td>NaN</td>\n",
       "      <td>NaN</td>\n",
       "      <td>4.838803</td>\n",
       "      <td>11.811667</td>\n",
       "      <td>19.221897</td>\n",
       "      <td>NaN</td>\n",
       "    </tr>\n",
       "    <tr>\n",
       "      <th>2018-04-01</th>\n",
       "      <td>NaN</td>\n",
       "      <td>NaN</td>\n",
       "      <td>NaN</td>\n",
       "      <td>NaN</td>\n",
       "      <td>NaN</td>\n",
       "      <td>NaN</td>\n",
       "      <td>NaN</td>\n",
       "      <td>NaN</td>\n",
       "      <td>NaN</td>\n",
       "      <td>NaN</td>\n",
       "      <td>4.657597</td>\n",
       "      <td>17.535072</td>\n",
       "      <td>NaN</td>\n",
       "    </tr>\n",
       "    <tr>\n",
       "      <th>2018-05-01</th>\n",
       "      <td>NaN</td>\n",
       "      <td>NaN</td>\n",
       "      <td>NaN</td>\n",
       "      <td>NaN</td>\n",
       "      <td>NaN</td>\n",
       "      <td>NaN</td>\n",
       "      <td>NaN</td>\n",
       "      <td>NaN</td>\n",
       "      <td>NaN</td>\n",
       "      <td>NaN</td>\n",
       "      <td>NaN</td>\n",
       "      <td>4.660562</td>\n",
       "      <td>NaN</td>\n",
       "    </tr>\n",
       "    <tr>\n",
       "      <th>2018-06-01</th>\n",
       "      <td>NaN</td>\n",
       "      <td>NaN</td>\n",
       "      <td>NaN</td>\n",
       "      <td>NaN</td>\n",
       "      <td>NaN</td>\n",
       "      <td>NaN</td>\n",
       "      <td>NaN</td>\n",
       "      <td>NaN</td>\n",
       "      <td>NaN</td>\n",
       "      <td>NaN</td>\n",
       "      <td>NaN</td>\n",
       "      <td>NaN</td>\n",
       "      <td>3.42</td>\n",
       "    </tr>\n",
       "  </tbody>\n",
       "</table>\n",
       "</div>"
      ],
      "text/plain": [
       "order_month        2017-06-01  2017-07-01  2017-08-01  2017-09-01  2017-10-01  \\\n",
       "first_order_month                                                               \n",
       "2017-06-01           4.724414   16.095410   17.706800   35.764815   23.506591   \n",
       "2017-07-01                NaN    6.010218   12.396346   21.035965   10.786094   \n",
       "2017-08-01                NaN         NaN    5.276518   11.148793   11.851321   \n",
       "2017-09-01                NaN         NaN         NaN    5.644529   22.188385   \n",
       "2017-10-01                NaN         NaN         NaN         NaN    5.003733   \n",
       "2017-11-01                NaN         NaN         NaN         NaN         NaN   \n",
       "2017-12-01                NaN         NaN         NaN         NaN         NaN   \n",
       "2018-01-01                NaN         NaN         NaN         NaN         NaN   \n",
       "2018-02-01                NaN         NaN         NaN         NaN         NaN   \n",
       "2018-03-01                NaN         NaN         NaN         NaN         NaN   \n",
       "2018-04-01                NaN         NaN         NaN         NaN         NaN   \n",
       "2018-05-01                NaN         NaN         NaN         NaN         NaN   \n",
       "2018-06-01                NaN         NaN         NaN         NaN         NaN   \n",
       "\n",
       "order_month        2017-11-01  2017-12-01  2018-01-01  2018-02-01  2018-03-01  \\\n",
       "first_order_month                                                               \n",
       "2017-06-01          22.207761   31.011935   25.033191   19.295690   27.233556   \n",
       "2017-07-01           6.938163    7.896842    6.421111    6.992821    7.382143   \n",
       "2017-08-01          12.182955   16.921250   12.139063    9.620333   12.610455   \n",
       "2017-09-01          13.445200  138.669189   19.881538   26.095000   27.437121   \n",
       "2017-10-01          11.287427    6.753252    7.413152    7.072796    7.255139   \n",
       "2017-11-01           5.154683    7.339054    6.786583   12.510660    7.457284   \n",
       "2017-12-01                NaN    4.738191    7.816575   39.366019   48.135052   \n",
       "2018-01-01                NaN         NaN    4.135636    8.721228   12.365542   \n",
       "2018-02-01                NaN         NaN         NaN    4.156987    8.610000   \n",
       "2018-03-01                NaN         NaN         NaN         NaN    4.838803   \n",
       "2018-04-01                NaN         NaN         NaN         NaN         NaN   \n",
       "2018-05-01                NaN         NaN         NaN         NaN         NaN   \n",
       "2018-06-01                NaN         NaN         NaN         NaN         NaN   \n",
       "\n",
       "order_month        2018-04-01  2018-05-01  2018-06-01  \n",
       "first_order_month                                      \n",
       "2017-06-01          25.681333    9.804151         NaN  \n",
       "2017-07-01          12.861818   11.513846         NaN  \n",
       "2017-08-01          21.070000    8.307419         NaN  \n",
       "2017-09-01          16.961351   11.044651         NaN  \n",
       "2017-10-01           6.573214    7.479701         NaN  \n",
       "2017-11-01           4.580833    7.564839         NaN  \n",
       "2017-12-01          27.431400   23.518413         NaN  \n",
       "2018-01-01          11.199767    4.699556         NaN  \n",
       "2018-02-01           4.942414    6.941026         NaN  \n",
       "2018-03-01          11.811667   19.221897         NaN  \n",
       "2018-04-01           4.657597   17.535072         NaN  \n",
       "2018-05-01                NaN    4.660562         NaN  \n",
       "2018-06-01                NaN         NaN        3.42  "
      ]
     },
     "execution_count": 80,
     "metadata": {},
     "output_type": "execute_result"
    }
   ],
   "source": [
    "orders_grouped_by_cohorts.pivot_table(index='first_order_month',\n",
    "                                      columns='order_month',\n",
    "                                      values='revenue_per_user',\n",
    "                                      aggfunc='mean') "
   ]
  },
  {
   "cell_type": "markdown",
   "metadata": {},
   "source": [
    "##### Найдём lifetime когорты. Из месяца совершения заказа `order_month` вычтем месяц когорты `first_order_month`:"
   ]
  },
  {
   "cell_type": "code",
   "execution_count": 81,
   "metadata": {},
   "outputs": [
    {
     "data": {
      "text/plain": [
       "0     0 days\n",
       "1    30 days\n",
       "2    61 days\n",
       "3    92 days\n",
       "4   122 days\n",
       "Name: cohort_lifetime, dtype: timedelta64[ns]"
      ]
     },
     "execution_count": 81,
     "metadata": {},
     "output_type": "execute_result"
    }
   ],
   "source": [
    "orders_grouped_by_cohorts = orders_grouped_by_cohorts.reset_index()\n",
    "orders_grouped_by_cohorts['cohort_lifetime'] = orders_grouped_by_cohorts['order_month'] -\\\n",
    "                                                orders_grouped_by_cohorts['first_order_month']\n",
    "orders_grouped_by_cohorts['cohort_lifetime'].head() "
   ]
  },
  {
   "cell_type": "code",
   "execution_count": 82,
   "metadata": {},
   "outputs": [
    {
     "name": "stdout",
     "output_type": "stream",
     "text": [
      "0    0.000000\n",
      "1    0.985647\n",
      "2    2.004148\n",
      "3    3.022649\n",
      "4    4.008296\n",
      "Name: cohort_lifetime, dtype: float64\n"
     ]
    }
   ],
   "source": [
    "orders_grouped_by_cohorts['cohort_lifetime'] = orders_grouped_by_cohorts['cohort_lifetime'] / np.timedelta64(1,'M')\n",
    "print(orders_grouped_by_cohorts['cohort_lifetime'].head()) "
   ]
  },
  {
   "cell_type": "code",
   "execution_count": 83,
   "metadata": {},
   "outputs": [
    {
     "name": "stdout",
     "output_type": "stream",
     "text": [
      "  first_order_month order_month  cohort_lifetime\n",
      "0        2017-06-01  2017-06-01                0\n",
      "1        2017-06-01  2017-07-01                1\n",
      "2        2017-06-01  2017-08-01                2\n",
      "3        2017-06-01  2017-09-01                3\n",
      "4        2017-06-01  2017-10-01                4\n",
      "   first_order_month order_month  cohort_lifetime\n",
      "74        2018-03-01  2018-05-01                2\n",
      "75        2018-04-01  2018-04-01                0\n",
      "76        2018-04-01  2018-05-01                1\n",
      "77        2018-05-01  2018-05-01                0\n",
      "78        2018-06-01  2018-06-01                0\n"
     ]
    }
   ],
   "source": [
    "orders_grouped_by_cohorts['cohort_lifetime'] = orders_grouped_by_cohorts['cohort_lifetime'].round().astype('int')\n",
    "print(orders_grouped_by_cohorts[['first_order_month','order_month','cohort_lifetime']].head())\n",
    "print(orders_grouped_by_cohorts[['first_order_month','order_month','cohort_lifetime']].tail()) "
   ]
  },
  {
   "cell_type": "code",
   "execution_count": 84,
   "metadata": {},
   "outputs": [],
   "source": [
    "orders_grouped_by_cohorts['first_order_month'].dt.strftime('%d.%m.%Y')\n",
    "orders_grouped_by_cohorts['first_order_month'] = orders_grouped_by_cohorts['first_order_month'].dt.strftime('%Y-%m') "
   ]
  },
  {
   "cell_type": "markdown",
   "metadata": {},
   "source": [
    "##### Построим сводную таблицу изменения среднего чека, где в столбцах будет lifetime, а строках — когорты:"
   ]
  },
  {
   "cell_type": "code",
   "execution_count": 85,
   "metadata": {},
   "outputs": [],
   "source": [
    "revenue_per_user_pivot = orders_grouped_by_cohorts.pivot_table(index='first_order_month',\n",
    "                                                               columns='cohort_lifetime',\n",
    "                                                               values='revenue_per_user',\n",
    "                                                               aggfunc='mean')"
   ]
  },
  {
   "cell_type": "code",
   "execution_count": 86,
   "metadata": {},
   "outputs": [
    {
     "data": {
      "image/png": "[encoded data removed]",
      "text/plain": [
       "<Figure size 1296x648 with 2 Axes>"
      ]
     },
     "metadata": {},
     "output_type": "display_data"
    }
   ],
   "source": [
    "sns.set(style='white')\n",
    "plt.figure(figsize=(18, 9))\n",
    "plt.title('Cohorts: revenue_per_user')\n",
    "sns.heatmap(revenue_per_user_pivot, annot=True,fmt='.2f', linewidths=1, linecolor='gray'); "
   ]
  },
  {
   "cell_type": "markdown",
   "metadata": {},
   "source": [
    "######  В большей части месячных когорт средий чек по мере взросления растет. Это значит, что пользователи охотно покупают снова и снова на нашем ресурсе."
   ]
  },
  {
   "cell_type": "markdown",
   "metadata": {},
   "source": [
    "##### Теперь опередлим сколько денег приносит нам один пользватель за весь период."
   ]
  },
  {
   "cell_type": "markdown",
   "metadata": {},
   "source": [
    "##### Для этого посчитаем LTV ( Life Time Value). Расчет сразу произведем в разбивке по источнику привлечения клиента, так как эти данные нам понадобятся в дальнейшем исследовании."
   ]
  },
  {
   "cell_type": "markdown",
   "metadata": {},
   "source": [
    "##### Определим источник пользователя, заодно отбросим тех, кто перешел по прямой ссылке."
   ]
  },
  {
   "cell_type": "code",
   "execution_count": 87,
   "metadata": {},
   "outputs": [],
   "source": [
    "sources = visits.sort_values(by = ['uid', 'start ts']).groupby('uid').agg({'source id': 'first'})"
   ]
  },
  {
   "cell_type": "markdown",
   "metadata": {},
   "source": [
    "##### Соединим первые покупки и источники."
   ]
  },
  {
   "cell_type": "code",
   "execution_count": 88,
   "metadata": {},
   "outputs": [],
   "source": [
    "payers = orders.groupby('uid').agg({'buy ts': 'min'}).merge(sources, on = 'uid').reset_index()\n",
    "payers = payers.rename(columns = {'buy ts': 'first_buy'})"
   ]
  },
  {
   "cell_type": "markdown",
   "metadata": {},
   "source": [
    "##### Посчитаем LTV."
   ]
  },
  {
   "cell_type": "code",
   "execution_count": 89,
   "metadata": {},
   "outputs": [],
   "source": [
    "ltv = payers.merge(orders, on = 'uid')\n",
    "ltv['lifetime'] = ((ltv['buy ts'] - ltv['first_order_date']) / np.timedelta64(1,'M')).round().astype(int)\n",
    "orders_lifetime = ltv.pivot_table(index = 'source id', columns = 'lifetime', values = 'revenue', aggfunc = 'count').fillna(0)\n",
    "buyers_lifetime = ltv.pivot_table(index = 'source id', columns = 'lifetime', values = 'uid', aggfunc = 'nunique').fillna(0)\n",
    "ltv = ltv.pivot_table(index = 'source id', columns = 'lifetime', values = 'revenue', aggfunc = 'sum').fillna(0)\n",
    "ltv = ltv.cumsum(axis = 1)"
   ]
  },
  {
   "cell_type": "markdown",
   "metadata": {},
   "source": [
    "##### Добавляем размеры когорт и поделим на них, чтобы найти сколько принсосит в среднем нам один пользователь по каждому источнику привлечения."
   ]
  },
  {
   "cell_type": "code",
   "execution_count": 90,
   "metadata": {},
   "outputs": [],
   "source": [
    "cohort_sizes = payers.groupby('source id').agg({'uid': 'nunique'}).rename(columns = {'uid': 'cohort_size'})\n",
    "ltv = ltv.merge(cohort_sizes, on = 'source id')\n",
    "ltv = ltv.div(ltv['cohort_size'], axis = 0).drop(columns = 'cohort_size')"
   ]
  },
  {
   "cell_type": "markdown",
   "metadata": {},
   "source": [
    "######  Построим отчет (Тепловую карту)."
   ]
  },
  {
   "cell_type": "code",
   "execution_count": 91,
   "metadata": {},
   "outputs": [
    {
     "data": {
      "image/png": "[encoded data removed]",
      "text/plain": [
       "<Figure size 1296x648 with 2 Axes>"
      ]
     },
     "metadata": {},
     "output_type": "display_data"
    }
   ],
   "source": [
    "sns.set(style='white')\n",
    "plt.figure(figsize=(18, 9))\n",
    "plt.title('Cohorts: ltv')\n",
    "sns.heatmap(ltv, annot=True,fmt='.2f', linewidths=1, linecolor='gray'); "
   ]
  },
  {
   "cell_type": "markdown",
   "metadata": {},
   "source": [
    "##### Теперь посчитаем средний LTV (Life Time Value) для каждой месячной когорты, чтобы понять сколько в среднем пользователи приностя нам выручки накопительным итогом  с момента первых покупок и далее по тем покупкам лайфтайма которые они совершают."
   ]
  },
  {
   "cell_type": "markdown",
   "metadata": {},
   "source": [
    "###### Выделим месяц из даты"
   ]
  },
  {
   "cell_type": "code",
   "execution_count": 92,
   "metadata": {},
   "outputs": [],
   "source": [
    "orders_ltv['order_month'] = orders_ltv['buy ts'].astype('datetime64[M]')"
   ]
  },
  {
   "cell_type": "markdown",
   "metadata": {},
   "source": [
    "##### Получим месяц первой покупки для каждого клиента"
   ]
  },
  {
   "cell_type": "code",
   "execution_count": 93,
   "metadata": {},
   "outputs": [],
   "source": [
    "first_orders = orders_ltv.groupby('uid').agg({'order_month': 'min'}).reset_index()\n",
    "first_orders.columns = ['uid', 'first_order_month']"
   ]
  },
  {
   "cell_type": "markdown",
   "metadata": {},
   "source": [
    "##### Найдем количество новых покупателей ежемесячно"
   ]
  },
  {
   "cell_type": "code",
   "execution_count": 94,
   "metadata": {},
   "outputs": [],
   "source": [
    "cohort_sizes_2 = first_orders.groupby('first_order_month').agg({'uid': 'nunique'}).reset_index()\n",
    "first_order_month = pd.merge(orders_ltv, first_orders, on='uid')\n",
    "cohorts = first_order_month.groupby(['first_order_month', 'order_month']).agg({'revenue': 'sum'}).reset_index()"
   ]
  },
  {
   "cell_type": "markdown",
   "metadata": {},
   "source": [
    "##### Сформируем помесячные когорты"
   ]
  },
  {
   "cell_type": "code",
   "execution_count": 95,
   "metadata": {},
   "outputs": [],
   "source": [
    "report = pd.merge(cohort_sizes_2, cohorts, on='first_order_month')\n",
    "\n",
    "report['age'] = (report['order_month'] - report['first_order_month']) / np.timedelta64(1, 'M')\n",
    "report['age'] = report['age'].round().astype('int')\n",
    "report['ltv'] = report['revenue'] / report['uid']"
   ]
  },
  {
   "cell_type": "markdown",
   "metadata": {},
   "source": [
    "###### Выведем результат"
   ]
  },
  {
   "cell_type": "code",
   "execution_count": 96,
   "metadata": {},
   "outputs": [
    {
     "data": {
      "text/html": [
       "<div>\n",
       "<style scoped>\n",
       "    .dataframe tbody tr th:only-of-type {\n",
       "        vertical-align: middle;\n",
       "    }\n",
       "\n",
       "    .dataframe tbody tr th {\n",
       "        vertical-align: top;\n",
       "    }\n",
       "\n",
       "    .dataframe thead th {\n",
       "        text-align: right;\n",
       "    }\n",
       "</style>\n",
       "<table border=\"1\" class=\"dataframe\">\n",
       "  <thead>\n",
       "    <tr style=\"text-align: right;\">\n",
       "      <th>age</th>\n",
       "      <th>0</th>\n",
       "      <th>1</th>\n",
       "      <th>2</th>\n",
       "      <th>3</th>\n",
       "      <th>4</th>\n",
       "      <th>5</th>\n",
       "      <th>6</th>\n",
       "      <th>7</th>\n",
       "      <th>8</th>\n",
       "      <th>9</th>\n",
       "      <th>10</th>\n",
       "      <th>11</th>\n",
       "    </tr>\n",
       "    <tr>\n",
       "      <th>first_order_month</th>\n",
       "      <th></th>\n",
       "      <th></th>\n",
       "      <th></th>\n",
       "      <th></th>\n",
       "      <th></th>\n",
       "      <th></th>\n",
       "      <th></th>\n",
       "      <th></th>\n",
       "      <th></th>\n",
       "      <th></th>\n",
       "      <th></th>\n",
       "      <th></th>\n",
       "    </tr>\n",
       "  </thead>\n",
       "  <tbody>\n",
       "    <tr>\n",
       "      <th>2017-06-01</th>\n",
       "      <td>4.72</td>\n",
       "      <td>5.21</td>\n",
       "      <td>5.65</td>\n",
       "      <td>6.60</td>\n",
       "      <td>7.62</td>\n",
       "      <td>8.36</td>\n",
       "      <td>9.31</td>\n",
       "      <td>9.89</td>\n",
       "      <td>10.45</td>\n",
       "      <td>11.05</td>\n",
       "      <td>11.62</td>\n",
       "      <td>11.88</td>\n",
       "    </tr>\n",
       "    <tr>\n",
       "      <th>2017-07-01</th>\n",
       "      <td>6.01</td>\n",
       "      <td>6.35</td>\n",
       "      <td>6.97</td>\n",
       "      <td>7.33</td>\n",
       "      <td>7.50</td>\n",
       "      <td>7.66</td>\n",
       "      <td>7.78</td>\n",
       "      <td>7.92</td>\n",
       "      <td>8.08</td>\n",
       "      <td>8.23</td>\n",
       "      <td>8.39</td>\n",
       "      <td>NaN</td>\n",
       "    </tr>\n",
       "    <tr>\n",
       "      <th>2017-08-01</th>\n",
       "      <td>5.28</td>\n",
       "      <td>5.75</td>\n",
       "      <td>6.21</td>\n",
       "      <td>6.60</td>\n",
       "      <td>7.09</td>\n",
       "      <td>7.38</td>\n",
       "      <td>7.59</td>\n",
       "      <td>7.99</td>\n",
       "      <td>8.28</td>\n",
       "      <td>8.47</td>\n",
       "      <td>NaN</td>\n",
       "      <td>NaN</td>\n",
       "    </tr>\n",
       "    <tr>\n",
       "      <th>2017-09-01</th>\n",
       "      <td>5.64</td>\n",
       "      <td>6.76</td>\n",
       "      <td>7.28</td>\n",
       "      <td>11.26</td>\n",
       "      <td>11.66</td>\n",
       "      <td>12.31</td>\n",
       "      <td>13.01</td>\n",
       "      <td>13.25</td>\n",
       "      <td>13.44</td>\n",
       "      <td>NaN</td>\n",
       "      <td>NaN</td>\n",
       "      <td>NaN</td>\n",
       "    </tr>\n",
       "    <tr>\n",
       "      <th>2017-10-01</th>\n",
       "      <td>5.00</td>\n",
       "      <td>5.54</td>\n",
       "      <td>5.73</td>\n",
       "      <td>5.89</td>\n",
       "      <td>6.04</td>\n",
       "      <td>6.16</td>\n",
       "      <td>6.24</td>\n",
       "      <td>6.36</td>\n",
       "      <td>NaN</td>\n",
       "      <td>NaN</td>\n",
       "      <td>NaN</td>\n",
       "      <td>NaN</td>\n",
       "    </tr>\n",
       "    <tr>\n",
       "      <th>2017-11-01</th>\n",
       "      <td>5.15</td>\n",
       "      <td>5.55</td>\n",
       "      <td>5.75</td>\n",
       "      <td>6.08</td>\n",
       "      <td>6.23</td>\n",
       "      <td>6.28</td>\n",
       "      <td>6.40</td>\n",
       "      <td>NaN</td>\n",
       "      <td>NaN</td>\n",
       "      <td>NaN</td>\n",
       "      <td>NaN</td>\n",
       "      <td>NaN</td>\n",
       "    </tr>\n",
       "    <tr>\n",
       "      <th>2017-12-01</th>\n",
       "      <td>4.74</td>\n",
       "      <td>5.00</td>\n",
       "      <td>5.92</td>\n",
       "      <td>6.99</td>\n",
       "      <td>7.30</td>\n",
       "      <td>7.64</td>\n",
       "      <td>NaN</td>\n",
       "      <td>NaN</td>\n",
       "      <td>NaN</td>\n",
       "      <td>NaN</td>\n",
       "      <td>NaN</td>\n",
       "      <td>NaN</td>\n",
       "    </tr>\n",
       "    <tr>\n",
       "      <th>2018-01-01</th>\n",
       "      <td>4.14</td>\n",
       "      <td>4.43</td>\n",
       "      <td>4.73</td>\n",
       "      <td>4.88</td>\n",
       "      <td>4.94</td>\n",
       "      <td>NaN</td>\n",
       "      <td>NaN</td>\n",
       "      <td>NaN</td>\n",
       "      <td>NaN</td>\n",
       "      <td>NaN</td>\n",
       "      <td>NaN</td>\n",
       "      <td>NaN</td>\n",
       "    </tr>\n",
       "    <tr>\n",
       "      <th>2018-02-01</th>\n",
       "      <td>4.16</td>\n",
       "      <td>4.44</td>\n",
       "      <td>4.51</td>\n",
       "      <td>4.59</td>\n",
       "      <td>NaN</td>\n",
       "      <td>NaN</td>\n",
       "      <td>NaN</td>\n",
       "      <td>NaN</td>\n",
       "      <td>NaN</td>\n",
       "      <td>NaN</td>\n",
       "      <td>NaN</td>\n",
       "      <td>NaN</td>\n",
       "    </tr>\n",
       "    <tr>\n",
       "      <th>2018-03-01</th>\n",
       "      <td>4.84</td>\n",
       "      <td>5.14</td>\n",
       "      <td>5.46</td>\n",
       "      <td>NaN</td>\n",
       "      <td>NaN</td>\n",
       "      <td>NaN</td>\n",
       "      <td>NaN</td>\n",
       "      <td>NaN</td>\n",
       "      <td>NaN</td>\n",
       "      <td>NaN</td>\n",
       "      <td>NaN</td>\n",
       "      <td>NaN</td>\n",
       "    </tr>\n",
       "    <tr>\n",
       "      <th>2018-04-01</th>\n",
       "      <td>4.66</td>\n",
       "      <td>5.19</td>\n",
       "      <td>NaN</td>\n",
       "      <td>NaN</td>\n",
       "      <td>NaN</td>\n",
       "      <td>NaN</td>\n",
       "      <td>NaN</td>\n",
       "      <td>NaN</td>\n",
       "      <td>NaN</td>\n",
       "      <td>NaN</td>\n",
       "      <td>NaN</td>\n",
       "      <td>NaN</td>\n",
       "    </tr>\n",
       "    <tr>\n",
       "      <th>2018-05-01</th>\n",
       "      <td>4.66</td>\n",
       "      <td>NaN</td>\n",
       "      <td>NaN</td>\n",
       "      <td>NaN</td>\n",
       "      <td>NaN</td>\n",
       "      <td>NaN</td>\n",
       "      <td>NaN</td>\n",
       "      <td>NaN</td>\n",
       "      <td>NaN</td>\n",
       "      <td>NaN</td>\n",
       "      <td>NaN</td>\n",
       "      <td>NaN</td>\n",
       "    </tr>\n",
       "    <tr>\n",
       "      <th>2018-06-01</th>\n",
       "      <td>3.42</td>\n",
       "      <td>NaN</td>\n",
       "      <td>NaN</td>\n",
       "      <td>NaN</td>\n",
       "      <td>NaN</td>\n",
       "      <td>NaN</td>\n",
       "      <td>NaN</td>\n",
       "      <td>NaN</td>\n",
       "      <td>NaN</td>\n",
       "      <td>NaN</td>\n",
       "      <td>NaN</td>\n",
       "      <td>NaN</td>\n",
       "    </tr>\n",
       "  </tbody>\n",
       "</table>\n",
       "</div>"
      ],
      "text/plain": [
       "age                  0     1     2      3      4      5      6      7      8   \\\n",
       "first_order_month                                                               \n",
       "2017-06-01         4.72  5.21  5.65   6.60   7.62   8.36   9.31   9.89  10.45   \n",
       "2017-07-01         6.01  6.35  6.97   7.33   7.50   7.66   7.78   7.92   8.08   \n",
       "2017-08-01         5.28  5.75  6.21   6.60   7.09   7.38   7.59   7.99   8.28   \n",
       "2017-09-01         5.64  6.76  7.28  11.26  11.66  12.31  13.01  13.25  13.44   \n",
       "2017-10-01         5.00  5.54  5.73   5.89   6.04   6.16   6.24   6.36    NaN   \n",
       "2017-11-01         5.15  5.55  5.75   6.08   6.23   6.28   6.40    NaN    NaN   \n",
       "2017-12-01         4.74  5.00  5.92   6.99   7.30   7.64    NaN    NaN    NaN   \n",
       "2018-01-01         4.14  4.43  4.73   4.88   4.94    NaN    NaN    NaN    NaN   \n",
       "2018-02-01         4.16  4.44  4.51   4.59    NaN    NaN    NaN    NaN    NaN   \n",
       "2018-03-01         4.84  5.14  5.46    NaN    NaN    NaN    NaN    NaN    NaN   \n",
       "2018-04-01         4.66  5.19   NaN    NaN    NaN    NaN    NaN    NaN    NaN   \n",
       "2018-05-01         4.66   NaN   NaN    NaN    NaN    NaN    NaN    NaN    NaN   \n",
       "2018-06-01         3.42   NaN   NaN    NaN    NaN    NaN    NaN    NaN    NaN   \n",
       "\n",
       "age                   9      10     11  \n",
       "first_order_month                       \n",
       "2017-06-01         11.05  11.62  11.88  \n",
       "2017-07-01          8.23   8.39    NaN  \n",
       "2017-08-01          8.47    NaN    NaN  \n",
       "2017-09-01           NaN    NaN    NaN  \n",
       "2017-10-01           NaN    NaN    NaN  \n",
       "2017-11-01           NaN    NaN    NaN  \n",
       "2017-12-01           NaN    NaN    NaN  \n",
       "2018-01-01           NaN    NaN    NaN  \n",
       "2018-02-01           NaN    NaN    NaN  \n",
       "2018-03-01           NaN    NaN    NaN  \n",
       "2018-04-01           NaN    NaN    NaN  \n",
       "2018-05-01           NaN    NaN    NaN  \n",
       "2018-06-01           NaN    NaN    NaN  "
      ]
     },
     "execution_count": 96,
     "metadata": {},
     "output_type": "execute_result"
    }
   ],
   "source": [
    "result = report.pivot_table(\n",
    "        index='first_order_month', \n",
    "        columns='age', \n",
    "        values='ltv', \n",
    "        aggfunc='mean')\n",
    "\n",
    "result = result.cumsum(axis=1).round(2)\n",
    "result"
   ]
  },
  {
   "cell_type": "code",
   "execution_count": 97,
   "metadata": {},
   "outputs": [
    {
     "name": "stdout",
     "output_type": "stream",
     "text": [
      "Средний LTV на одного пользователя накопительным итогом на 6-ой месяц жизни когорты: 8.4 тыс. руб.\n"
     ]
    }
   ],
   "source": [
    "print('Средний LTV на одного пользователя накопительным итогом на 6-ой месяц жизни когорты: {:.2} тыс. руб.'.format(result[6].mean()))"
   ]
  },
  {
   "cell_type": "markdown",
   "metadata": {},
   "source": [
    "### Выводы по метрикам продаж: <a id=\"sales_conc\"></a>\n",
    "\n",
    "##### Когда люди начинают покупать?\n",
    "\n",
    "- Средняя количество дней от первой сессии до первой покупки: 16 дней;\n",
    "- Медианное количество дней от первой сессии до первой покупки: 0 дней;\n",
    "- Мода количества дней от первой сессии до первой покупки (наиболее встречающаяся кол-во дней): 0 дней;\n",
    "- Нулевая мода и медиана говорят о том, что много пользвателей делает покупку в первый день посещения ресурса.\n",
    "\n",
    "##### Сколько раз покупают за период?\n",
    "\n",
    "- Среднее количество покупок: 1 шт.\n",
    "- Медианное количество покупок: 1 шт.\n",
    "- Мода количества покупок: 1 шт.\n",
    "- Пользователи чаще всего делали по одной покупке за весь период.\n",
    "\n",
    "##### Какой средний чек?\n",
    "\n",
    "- Средний чек по всем пользователям за весь период: 5 тыс рублей;\n",
    "- Минимальная сумма заказа: 0 руб. Таких пользователей всего 51 из более чем ~30 тыс. Скорее всего это или ошибка выгрузки, или результат какой-то акции.\n",
    "- Максимальная сумма заказа: 2,6 млн рублей. Кто-то купил место в первом ряду на Тони Робинса (шуктка) :-)\n",
    "- Самый большой средний чек приходится на декабрь, а самый маленький на январь и июнь обоих лет. Мы можем сделать вывод, что люди охотнее тратят больше денег на походы по культурным местам перед Новым Годом, а летом предпочитают альтернативный досуг. Ну и, как правило, летом у театров каникулы.\n",
    "- Если смотреть на средний чек в разрезе месячных когорт, то по большей части средий чек растет по мере взросления когорты. Это значит, что пользователи охотно покупают снова и снова на нашем ресурсе.\n",
    "\n",
    "\n",
    "##### Сколько денег приносят? (LTV)\n",
    "\n",
    "- Если смотреть на LTV в разрезе месячных когорт и в разбивке по рекламному источнику, то самыми привлекательными выглядят пользователи из первой и второй когорты. Они генерят больше всего выручки. Накопительным итогом за 12 месяцев \"усредненный\" пользователь из первой когорты сгенерил нам ~11 тыс рублей; а во второй когорте ~13 тыс рублей.\n",
    "- Самый слабый показатель LTV по седьмой когорте - статичные 1.2 тыс рублей за 12 месяцев."
   ]
  },
  {
   "cell_type": "markdown",
   "metadata": {},
   "source": [
    "### Маркетинговые метрики: <a id=\"mark\"></a>"
   ]
  },
  {
   "cell_type": "markdown",
   "metadata": {},
   "source": [
    "#####  Разберемся сколько денег потратили? Всего / на каждый источник / по времени."
   ]
  },
  {
   "cell_type": "code",
   "execution_count": 98,
   "metadata": {},
   "outputs": [
    {
     "data": {
      "text/html": [
       "<div>\n",
       "<style scoped>\n",
       "    .dataframe tbody tr th:only-of-type {\n",
       "        vertical-align: middle;\n",
       "    }\n",
       "\n",
       "    .dataframe tbody tr th {\n",
       "        vertical-align: top;\n",
       "    }\n",
       "\n",
       "    .dataframe thead th {\n",
       "        text-align: right;\n",
       "    }\n",
       "</style>\n",
       "<table border=\"1\" class=\"dataframe\">\n",
       "  <thead>\n",
       "    <tr style=\"text-align: right;\">\n",
       "      <th></th>\n",
       "      <th>source_id</th>\n",
       "      <th>dt</th>\n",
       "      <th>costs</th>\n",
       "    </tr>\n",
       "  </thead>\n",
       "  <tbody>\n",
       "    <tr>\n",
       "      <th>0</th>\n",
       "      <td>1</td>\n",
       "      <td>2017-06-01</td>\n",
       "      <td>75.20</td>\n",
       "    </tr>\n",
       "    <tr>\n",
       "      <th>1</th>\n",
       "      <td>1</td>\n",
       "      <td>2017-06-02</td>\n",
       "      <td>62.25</td>\n",
       "    </tr>\n",
       "    <tr>\n",
       "      <th>2</th>\n",
       "      <td>1</td>\n",
       "      <td>2017-06-03</td>\n",
       "      <td>36.53</td>\n",
       "    </tr>\n",
       "    <tr>\n",
       "      <th>3</th>\n",
       "      <td>1</td>\n",
       "      <td>2017-06-04</td>\n",
       "      <td>55.00</td>\n",
       "    </tr>\n",
       "    <tr>\n",
       "      <th>4</th>\n",
       "      <td>1</td>\n",
       "      <td>2017-06-05</td>\n",
       "      <td>57.08</td>\n",
       "    </tr>\n",
       "  </tbody>\n",
       "</table>\n",
       "</div>"
      ],
      "text/plain": [
       "   source_id         dt  costs\n",
       "0          1 2017-06-01  75.20\n",
       "1          1 2017-06-02  62.25\n",
       "2          1 2017-06-03  36.53\n",
       "3          1 2017-06-04  55.00\n",
       "4          1 2017-06-05  57.08"
      ]
     },
     "execution_count": 98,
     "metadata": {},
     "output_type": "execute_result"
    }
   ],
   "source": [
    "costs.head()"
   ]
  },
  {
   "cell_type": "code",
   "execution_count": 99,
   "metadata": {},
   "outputs": [
    {
     "name": "stdout",
     "output_type": "stream",
     "text": [
      "Всего потратили: 329131 тыс.руб.\n"
     ]
    }
   ],
   "source": [
    "print('Всего потратили:', int(costs['costs'].sum()), 'тыс.руб.')"
   ]
  },
  {
   "cell_type": "code",
   "execution_count": 100,
   "metadata": {
    "scrolled": true
   },
   "outputs": [
    {
     "name": "stdout",
     "output_type": "stream",
     "text": [
      "Всего заработали: 252057 тыс.руб.\n"
     ]
    }
   ],
   "source": [
    "print('Всего заработали:', int(orders['revenue'].sum()), 'тыс.руб.')"
   ]
  },
  {
   "cell_type": "code",
   "execution_count": 101,
   "metadata": {},
   "outputs": [
    {
     "name": "stdout",
     "output_type": "stream",
     "text": [
      "   source_id      costs\n",
      "0          1   20833.27\n",
      "1          2   42806.04\n",
      "2          3  141321.63\n",
      "3          4   61073.60\n",
      "4          5   51757.10\n",
      "5          9    5517.49\n",
      "6         10    5822.49\n"
     ]
    }
   ],
   "source": [
    "costs_per_source = costs.groupby(['source_id']).agg({'costs': 'sum'}).rename(columns = {'source_id': 'costs_sum'}).reset_index()\n",
    "print(costs_per_source)"
   ]
  },
  {
   "cell_type": "markdown",
   "metadata": {},
   "source": [
    "##### Мы видим, что некторые источники не попали в нашу группировку. Разберемся почему."
   ]
  },
  {
   "cell_type": "code",
   "execution_count": 102,
   "metadata": {},
   "outputs": [
    {
     "data": {
      "text/html": [
       "<div>\n",
       "<style scoped>\n",
       "    .dataframe tbody tr th:only-of-type {\n",
       "        vertical-align: middle;\n",
       "    }\n",
       "\n",
       "    .dataframe tbody tr th {\n",
       "        vertical-align: top;\n",
       "    }\n",
       "\n",
       "    .dataframe thead th {\n",
       "        text-align: right;\n",
       "    }\n",
       "</style>\n",
       "<table border=\"1\" class=\"dataframe\">\n",
       "  <thead>\n",
       "    <tr style=\"text-align: right;\">\n",
       "      <th></th>\n",
       "      <th>source_id</th>\n",
       "      <th>dt</th>\n",
       "      <th>costs</th>\n",
       "    </tr>\n",
       "  </thead>\n",
       "  <tbody>\n",
       "  </tbody>\n",
       "</table>\n",
       "</div>"
      ],
      "text/plain": [
       "Empty DataFrame\n",
       "Columns: [source_id, dt, costs]\n",
       "Index: []"
      ]
     },
     "execution_count": 102,
     "metadata": {},
     "output_type": "execute_result"
    }
   ],
   "source": [
    "costs.query('source_id in [6,7,8]')"
   ]
  },
  {
   "cell_type": "code",
   "execution_count": 103,
   "metadata": {},
   "outputs": [
    {
     "data": {
      "image/png": "[encoded data removed]",
      "text/plain": [
       "<Figure size 720x432 with 1 Axes>"
      ]
     },
     "metadata": {},
     "output_type": "display_data"
    }
   ],
   "source": [
    "x = costs_per_source['source_id']\n",
    "y = costs_per_source['costs']\n",
    "\n",
    "fig, ax = plt.subplots()\n",
    "\n",
    "ax.bar(x, y, width = 0.6, color = 'r')\n",
    "ax.xaxis.set_major_locator(ticker.MultipleLocator(1))\n",
    "\n",
    "fig.set_figwidth(10)\n",
    "fig.set_figheight(6)\n",
    "\n",
    "plt.grid(True)\n",
    "plt.title('The amount of costs for each source_id')\n",
    "plt.xlabel('Source_id')\n",
    "plt.ylabel('Sum of costs')\n",
    "plt.show()"
   ]
  },
  {
   "cell_type": "markdown",
   "metadata": {},
   "source": [
    "##### По ним просто не было расходов."
   ]
  },
  {
   "cell_type": "code",
   "execution_count": 104,
   "metadata": {},
   "outputs": [],
   "source": [
    "costs['month_year'] = pd.to_datetime(costs['dt']).dt.to_period('M')"
   ]
  },
  {
   "cell_type": "code",
   "execution_count": 105,
   "metadata": {},
   "outputs": [
    {
     "name": "stdout",
     "output_type": "stream",
     "text": [
      "   month_year     costs\n",
      "0     2017-06  18015.00\n",
      "1     2017-07  18240.59\n",
      "2     2017-08  14790.54\n",
      "3     2017-09  24368.91\n",
      "4     2017-10  36322.88\n",
      "5     2017-11  37907.88\n",
      "6     2017-12  38315.35\n",
      "7     2018-01  33518.52\n",
      "8     2018-02  32723.03\n",
      "9     2018-03  30415.27\n",
      "10    2018-04  22289.38\n",
      "11    2018-05  22224.27\n"
     ]
    }
   ],
   "source": [
    "costs_per_month = costs.groupby(['month_year']).agg({'costs': 'sum'}).rename(columns = {'month_year': 'costs_sum'}).reset_index()\n",
    "print(costs_per_month)"
   ]
  },
  {
   "cell_type": "code",
   "execution_count": 106,
   "metadata": {},
   "outputs": [
    {
     "data": {
      "image/png": "[encoded data removed]",
      "text/plain": [
       "<Figure size 864x432 with 1 Axes>"
      ]
     },
     "metadata": {},
     "output_type": "display_data"
    }
   ],
   "source": [
    "x = np.arange(0,len(costs_per_month),1)\n",
    "y = costs_per_month['costs']\n",
    "\n",
    "fig, ax = plt.subplots(figsize=(12,6))\n",
    "ax.bar(x, y,width = 0.6, color = 'r')\n",
    "ax.set_xticks(x)\n",
    "ax.set_xticklabels(costs_per_month['month_year'])\n",
    "\n",
    "plt.grid(True)\n",
    "plt.title('The amount of costs per month')\n",
    "plt.xlabel('Month')\n",
    "plt.ylabel('Sum of costs')\n",
    "plt.show()"
   ]
  },
  {
   "cell_type": "markdown",
   "metadata": {},
   "source": [
    "##### Пик расходов приходится на октябрь, ноябрь и декабрь."
   ]
  },
  {
   "cell_type": "markdown",
   "metadata": {},
   "source": [
    "##### Посмотрим сколько стоило привлечение одного покупателя из каждого источника. Для этого посчитаем CAC( Customer acquisition cost)."
   ]
  },
  {
   "cell_type": "code",
   "execution_count": 107,
   "metadata": {},
   "outputs": [
    {
     "data": {
      "text/html": [
       "<div>\n",
       "<style scoped>\n",
       "    .dataframe tbody tr th:only-of-type {\n",
       "        vertical-align: middle;\n",
       "    }\n",
       "\n",
       "    .dataframe tbody tr th {\n",
       "        vertical-align: top;\n",
       "    }\n",
       "\n",
       "    .dataframe thead th {\n",
       "        text-align: right;\n",
       "    }\n",
       "</style>\n",
       "<table border=\"1\" class=\"dataframe\">\n",
       "  <thead>\n",
       "    <tr style=\"text-align: right;\">\n",
       "      <th></th>\n",
       "      <th>costs</th>\n",
       "      <th>cohort_size</th>\n",
       "      <th>cac</th>\n",
       "    </tr>\n",
       "    <tr>\n",
       "      <th>source id</th>\n",
       "      <th></th>\n",
       "      <th></th>\n",
       "      <th></th>\n",
       "    </tr>\n",
       "  </thead>\n",
       "  <tbody>\n",
       "    <tr>\n",
       "      <th>1</th>\n",
       "      <td>20833.27</td>\n",
       "      <td>2899</td>\n",
       "      <td>7.186364</td>\n",
       "    </tr>\n",
       "    <tr>\n",
       "      <th>2</th>\n",
       "      <td>42806.04</td>\n",
       "      <td>3506</td>\n",
       "      <td>12.209367</td>\n",
       "    </tr>\n",
       "    <tr>\n",
       "      <th>3</th>\n",
       "      <td>141321.63</td>\n",
       "      <td>10473</td>\n",
       "      <td>13.493901</td>\n",
       "    </tr>\n",
       "    <tr>\n",
       "      <th>4</th>\n",
       "      <td>61073.60</td>\n",
       "      <td>10296</td>\n",
       "      <td>5.931779</td>\n",
       "    </tr>\n",
       "    <tr>\n",
       "      <th>5</th>\n",
       "      <td>51757.10</td>\n",
       "      <td>6931</td>\n",
       "      <td>7.467479</td>\n",
       "    </tr>\n",
       "    <tr>\n",
       "      <th>9</th>\n",
       "      <td>5517.49</td>\n",
       "      <td>1088</td>\n",
       "      <td>5.071222</td>\n",
       "    </tr>\n",
       "    <tr>\n",
       "      <th>10</th>\n",
       "      <td>5822.49</td>\n",
       "      <td>1329</td>\n",
       "      <td>4.381106</td>\n",
       "    </tr>\n",
       "  </tbody>\n",
       "</table>\n",
       "</div>"
      ],
      "text/plain": [
       "               costs  cohort_size        cac\n",
       "source id                                   \n",
       "1           20833.27         2899   7.186364\n",
       "2           42806.04         3506  12.209367\n",
       "3          141321.63        10473  13.493901\n",
       "4           61073.60        10296   5.931779\n",
       "5           51757.10         6931   7.467479\n",
       "9            5517.49         1088   5.071222\n",
       "10           5822.49         1329   4.381106"
      ]
     },
     "metadata": {},
     "output_type": "display_data"
    }
   ],
   "source": [
    "cohort_sizes.reset_index()\n",
    "cac = costs.groupby('source_id').agg({'costs': 'sum'}).reset_index()\n",
    "cac = cac.merge(cohort_sizes, left_on = 'source_id', right_on='source id')\n",
    "cac['cac'] = cac['costs'] / cac['cohort_size']\n",
    "cac.rename(columns={'source_id':'source id'}, inplace=True)\n",
    "cac = cac.set_index('source id')\n",
    "display(cac)"
   ]
  },
  {
   "cell_type": "markdown",
   "metadata": {},
   "source": [
    "##### Проанализируем окупаемость расходов. Посчитаем  ROMI (Return On Marketing Investment)."
   ]
  },
  {
   "cell_type": "code",
   "execution_count": 108,
   "metadata": {},
   "outputs": [
    {
     "data": {
      "text/html": [
       "<div>\n",
       "<style scoped>\n",
       "    .dataframe tbody tr th:only-of-type {\n",
       "        vertical-align: middle;\n",
       "    }\n",
       "\n",
       "    .dataframe tbody tr th {\n",
       "        vertical-align: top;\n",
       "    }\n",
       "\n",
       "    .dataframe thead th {\n",
       "        text-align: right;\n",
       "    }\n",
       "</style>\n",
       "<table border=\"1\" class=\"dataframe\">\n",
       "  <thead>\n",
       "    <tr style=\"text-align: right;\">\n",
       "      <th></th>\n",
       "      <th>0</th>\n",
       "      <th>1</th>\n",
       "      <th>2</th>\n",
       "      <th>3</th>\n",
       "      <th>4</th>\n",
       "      <th>5</th>\n",
       "      <th>6</th>\n",
       "      <th>7</th>\n",
       "      <th>8</th>\n",
       "      <th>9</th>\n",
       "      <th>10</th>\n",
       "      <th>11</th>\n",
       "      <th>12</th>\n",
       "    </tr>\n",
       "    <tr>\n",
       "      <th>source id</th>\n",
       "      <th></th>\n",
       "      <th></th>\n",
       "      <th></th>\n",
       "      <th></th>\n",
       "      <th></th>\n",
       "      <th></th>\n",
       "      <th></th>\n",
       "      <th></th>\n",
       "      <th></th>\n",
       "      <th></th>\n",
       "      <th></th>\n",
       "      <th></th>\n",
       "      <th></th>\n",
       "    </tr>\n",
       "  </thead>\n",
       "  <tbody>\n",
       "    <tr>\n",
       "      <th>1</th>\n",
       "      <td>0.851823</td>\n",
       "      <td>0.994311</td>\n",
       "      <td>1.091534</td>\n",
       "      <td>1.187246</td>\n",
       "      <td>1.256402</td>\n",
       "      <td>1.286419</td>\n",
       "      <td>1.325542</td>\n",
       "      <td>1.363453</td>\n",
       "      <td>1.418138</td>\n",
       "      <td>1.453430</td>\n",
       "      <td>1.467553</td>\n",
       "      <td>1.485245</td>\n",
       "      <td>1.492351</td>\n",
       "    </tr>\n",
       "    <tr>\n",
       "      <th>2</th>\n",
       "      <td>0.549968</td>\n",
       "      <td>0.655629</td>\n",
       "      <td>0.794984</td>\n",
       "      <td>0.918825</td>\n",
       "      <td>0.974672</td>\n",
       "      <td>1.022032</td>\n",
       "      <td>1.041811</td>\n",
       "      <td>1.060477</td>\n",
       "      <td>1.078791</td>\n",
       "      <td>1.083886</td>\n",
       "      <td>1.092220</td>\n",
       "      <td>1.095854</td>\n",
       "      <td>1.096191</td>\n",
       "    </tr>\n",
       "    <tr>\n",
       "      <th>3</th>\n",
       "      <td>0.331144</td>\n",
       "      <td>0.350294</td>\n",
       "      <td>0.360459</td>\n",
       "      <td>0.370517</td>\n",
       "      <td>0.376635</td>\n",
       "      <td>0.379167</td>\n",
       "      <td>0.381402</td>\n",
       "      <td>0.383395</td>\n",
       "      <td>0.384793</td>\n",
       "      <td>0.385172</td>\n",
       "      <td>0.385559</td>\n",
       "      <td>0.385635</td>\n",
       "      <td>0.385725</td>\n",
       "    </tr>\n",
       "    <tr>\n",
       "      <th>4</th>\n",
       "      <td>0.771817</td>\n",
       "      <td>0.798770</td>\n",
       "      <td>0.817517</td>\n",
       "      <td>0.833841</td>\n",
       "      <td>0.854170</td>\n",
       "      <td>0.880263</td>\n",
       "      <td>0.900634</td>\n",
       "      <td>0.908672</td>\n",
       "      <td>0.912094</td>\n",
       "      <td>0.918484</td>\n",
       "      <td>0.927652</td>\n",
       "      <td>0.928106</td>\n",
       "      <td>0.928336</td>\n",
       "    </tr>\n",
       "    <tr>\n",
       "      <th>5</th>\n",
       "      <td>0.656549</td>\n",
       "      <td>0.684627</td>\n",
       "      <td>0.730498</td>\n",
       "      <td>0.915372</td>\n",
       "      <td>0.946874</td>\n",
       "      <td>0.969898</td>\n",
       "      <td>0.986301</td>\n",
       "      <td>0.998163</td>\n",
       "      <td>1.006381</td>\n",
       "      <td>1.014464</td>\n",
       "      <td>1.015436</td>\n",
       "      <td>1.016716</td>\n",
       "      <td>1.016750</td>\n",
       "    </tr>\n",
       "    <tr>\n",
       "      <th>9</th>\n",
       "      <td>0.761665</td>\n",
       "      <td>0.820953</td>\n",
       "      <td>0.869223</td>\n",
       "      <td>0.922193</td>\n",
       "      <td>0.944188</td>\n",
       "      <td>0.973254</td>\n",
       "      <td>0.997615</td>\n",
       "      <td>1.010157</td>\n",
       "      <td>1.034155</td>\n",
       "      <td>1.042150</td>\n",
       "      <td>1.043844</td>\n",
       "      <td>1.043844</td>\n",
       "      <td>1.043844</td>\n",
       "    </tr>\n",
       "    <tr>\n",
       "      <th>10</th>\n",
       "      <td>0.721336</td>\n",
       "      <td>0.736671</td>\n",
       "      <td>0.742894</td>\n",
       "      <td>0.753441</td>\n",
       "      <td>0.757018</td>\n",
       "      <td>0.757621</td>\n",
       "      <td>0.760704</td>\n",
       "      <td>0.762677</td>\n",
       "      <td>0.763757</td>\n",
       "      <td>0.764335</td>\n",
       "      <td>0.764335</td>\n",
       "      <td>0.764335</td>\n",
       "      <td>0.764335</td>\n",
       "    </tr>\n",
       "  </tbody>\n",
       "</table>\n",
       "</div>"
      ],
      "text/plain": [
       "                 0         1         2         3         4         5   \\\n",
       "source id                                                               \n",
       "1          0.851823  0.994311  1.091534  1.187246  1.256402  1.286419   \n",
       "2          0.549968  0.655629  0.794984  0.918825  0.974672  1.022032   \n",
       "3          0.331144  0.350294  0.360459  0.370517  0.376635  0.379167   \n",
       "4          0.771817  0.798770  0.817517  0.833841  0.854170  0.880263   \n",
       "5          0.656549  0.684627  0.730498  0.915372  0.946874  0.969898   \n",
       "9          0.761665  0.820953  0.869223  0.922193  0.944188  0.973254   \n",
       "10         0.721336  0.736671  0.742894  0.753441  0.757018  0.757621   \n",
       "\n",
       "                 6         7         8         9         10        11  \\\n",
       "source id                                                               \n",
       "1          1.325542  1.363453  1.418138  1.453430  1.467553  1.485245   \n",
       "2          1.041811  1.060477  1.078791  1.083886  1.092220  1.095854   \n",
       "3          0.381402  0.383395  0.384793  0.385172  0.385559  0.385635   \n",
       "4          0.900634  0.908672  0.912094  0.918484  0.927652  0.928106   \n",
       "5          0.986301  0.998163  1.006381  1.014464  1.015436  1.016716   \n",
       "9          0.997615  1.010157  1.034155  1.042150  1.043844  1.043844   \n",
       "10         0.760704  0.762677  0.763757  0.764335  0.764335  0.764335   \n",
       "\n",
       "                 12  \n",
       "source id            \n",
       "1          1.492351  \n",
       "2          1.096191  \n",
       "3          0.385725  \n",
       "4          0.928336  \n",
       "5          1.016750  \n",
       "9          1.043844  \n",
       "10         0.764335  "
      ]
     },
     "metadata": {},
     "output_type": "display_data"
    }
   ],
   "source": [
    "ltv.reset_index()\n",
    "romi = ltv.merge(cac[['cac']], on = 'source id')\n",
    "romi = romi.div(romi['cac'], axis = 0).drop(columns = 'cac')\n",
    "display(romi)"
   ]
  },
  {
   "cell_type": "code",
   "execution_count": 109,
   "metadata": {},
   "outputs": [
    {
     "data": {
      "image/png": "[encoded data removed]",
      "text/plain": [
       "<Figure size 1296x648 with 2 Axes>"
      ]
     },
     "metadata": {},
     "output_type": "display_data"
    }
   ],
   "source": [
    "sns.set(style='white')\n",
    "plt.figure(figsize=(18, 9))\n",
    "plt.title('Source_id: ROMI')\n",
    "sns.heatmap(romi, annot=True, fmt='.1%', linewidths=1, linecolor='gray'); "
   ]
  },
  {
   "cell_type": "markdown",
   "metadata": {},
   "source": [
    "### Выводы по маркетинговым метрикам: <a id=\"mark_conc\"></a>\n",
    "\n",
    "##### Сколько денег потратили? Всего / на каждый источник / по времени\n",
    "\n",
    "- Всего потратили: 329 131 тыс.руб.;\n",
    "- Из 10 мы инвестировали только в 7 источников. Больше всего в источник под ID №3: 141321.63 тыс. руб.;\n",
    "- Пик расходов приходится на октябрь, ноябрь и декабрь - самый сезон походов по мероприятиям.\n",
    "\n",
    "##### Сколько стоило привлечение одного покупателя из каждого источника?\n",
    "\n",
    "- Самым недорогим у нас получился привлеченный пользователь из источника №10: 4.38 руб.;\n",
    "- Самым дорогим из №3: 13.49 руб.\n",
    "\n",
    "##### На сколько окупились расходы? (ROI)\n",
    "\n",
    "- По итогу 12 месяцев мы сделали вывод, что у нас окупились когорты по следующим источникам: 1,2,5 и 9;\n",
    "- Аутсайдеры: 3,4 и 10.\n",
    "- Лучшим каналом можно считать №1 - привлечение пользователей окупается уже на 3-ий месяц"
   ]
  },
  {
   "cell_type": "markdown",
   "metadata": {},
   "source": [
    "## IV. Общий вывод : <a id=\"#final_conc\"></a>\n",
    "\n",
    "\n",
    "##### Сколько людей пользуются в день, неделю, месяц?\n",
    "\n",
    "- В Яндекс.Афиша за период с 06-2017 по 05-2018 побывало ~228 тыс человек;\n",
    "- Средний DAU за период 907 человек;\n",
    "- Средний WAU за период 5716 человек;\n",
    "- Средний MAU за период 23 228 человек;\n",
    "\n",
    "##### Сколько сессий в день?\n",
    "\n",
    "- Среднее количество сессий в день: 987, что сопоставимо со средне-дневным числом уникальных активных пользователей. Это значит, что большинство пользователей находят что искали с первого раза и в этот же день больше не возвращаются;\n",
    "\n",
    "##### Сколько длится одна сессия?\n",
    "\n",
    "- Среднее время сессии составляет (ASL): 60 секунд. Мы для расчета использовали моду, так как распределение времени сессий крайне ассиметрично.\n",
    "\n",
    "##### Как часто люди возвращаются?\n",
    "\n",
    "- Retention Rate показываает нам, что почти по всем месячным когортам после нулевого месяца на первый возвращается не более 9%. По некоторым когортам есть вообще пропуски, т.е. ни одного пользователя не пришло. Вместе с тем видно, что после привлечения новых пользователей процент возвратов более-менее стабильный. Мы думаем, что это связано со спецификой. В театры и на выстовки каждый день редко кто ходит.\n",
    "\n",
    "##### Когда люди начинают покупать?\n",
    "\n",
    "- Средняя количество дней от первой сессии до первой покупки: 16 дней;\n",
    "- Медианное количество дней от первой сессии до первой покупки: 0 дней;\n",
    "- Мода количества дней от первой сессии до первой покупки (наиболее встречающаяся кол-во дней): 0 дней;\n",
    "- Нулевая мода и медиана говорят о том, что много пользвателей делает покупку в первый день посещения ресурса.\n",
    "\n",
    "##### Сколько раз покупают за период?\n",
    "\n",
    "- Среднее количество покупок: 1 шт.\n",
    "- Медианное количество покупок: 1 шт.\n",
    "- Мода количества покупок: 1 шт.\n",
    "- Пользователи чаще всего делали по одной покупке за весь период.\n",
    "\n",
    "##### Какой средний чек?\n",
    "\n",
    "- Средний чек по всем пользователям за весь период: 5 тыс рублей;\n",
    "- Минимальная сумма заказа: 0 руб. Таких пользователей всего 51 из более чем ~30 тыс. Скорее всего это или ошибка выгрузки, или результат какой-то акции.\n",
    "- Максимальная сумма заказа: 2,6 млн рублей.\n",
    "- Самый большой средний чек приходится на декабрь, а самый маленький на январь и июнь обоих лет. Мы можем сделать вывод, что люди охотнее тратят больше денег на походы по культурным местам перед Новым Годом, а летом предпочитают альтернативный досуг. Ну и, как правило, летом у театров каникулы.\n",
    "- Если смотреть на средний чек в разрезе месячных когорт, то по большей части средий чек растет по мере взросления когорты. Это значит, что пользователи охотно покупают снова и снова на нашем ресурсе.\n",
    "\n",
    "\n",
    "##### Сколько денег приносят? (LTV)\n",
    "\n",
    "- Если смотреть на LTV в разрезе месячных когорт и в разбивке по источнику привлечения, то самыми интересными выглядят пользователи из первой и второй когорты. Они генерят больше всего выручки. Накопительным итогом за 12 месяцев \"усредненный\" пользователеь из первой когорты сгенерил нам ~11 тыс рублей; а во второй когорте ~13 тыс рублей.\n",
    "- Самый слабый показатель LTV по седьмой когорте - статичные 1,2 тыс рублей за 12 месяцев.\n",
    "\n",
    "\n",
    "##### Сколько денег потратили? Всего / на каждый источник / по времени\n",
    "\n",
    "- Всего потратили: 329 131 тыс.руб.;\n",
    "- Из 10 мы инвестировали только в 7 источников. Больше всего в источник под ID №3: 141 321.63 тыс. руб.;\n",
    "- Пик расходов приходится на октябрь, ноябрь и декабрь - самый сезон походов по мероприятиям.\n",
    "\n",
    "##### Сколько стоило привлечение одного покупателя из каждого источника?\n",
    "\n",
    "- Самым недорогим у нас получился привлеченный пользователь из источника №10: 4.38 руб.;\n",
    "- Самым дорогим из №3: 13.49 руб.\n",
    "\n",
    "##### На сколько окупились расходы? (ROI)\n",
    "\n",
    "- По итогу 12 месяцев мы сделали вывод, что у нас окупились когорты по следующим источникам: 1,2,5 и 9;\n",
    "- Аутсайдеры: 3,4 и 10.\n",
    "- Лучшим каналом можно считать №1 - привлечение пользователей окупается уже на 3-ий месяц.\n",
    "\n",
    "### Рекомендации:\n",
    "Мы рекомендуем:\n",
    "- Скорректировать рекламный бюджет в сторону увеличения по источнику №1, так как CAC по ~7 рублей с окупаемостью (ROMI) на 3-ий месяц выглядят очень привлекательными по сравнению со всеми остальными;\n",
    "- Отказаться от источника №3. Плата по 13 рублей за человека совсем не оправдала себя;\n",
    "- Отказаться от источника №10. 4 рубля за человека это очень привлекательно, но покупки происходят в основном только в месяц привлечения, что окупает привлечение только на ~70%. В дальнейшем пользователи почти не возвращаются за повторными покупками;\n",
    "- Бюджет остальных источников оставить без изменений для диверсификации. Так как со времененм поведение может меняться."
   ]
  }
 ],
 "metadata": {
  "kernelspec": {
   "display_name": "Python 3",
   "language": "python",
   "name": "python3"
  },
  "language_info": {
   "codemirror_mode": {
    "name": "ipython",
    "version": 3
   },
   "file_extension": ".py",
   "mimetype": "text/x-python",
   "name": "python",
   "nbconvert_exporter": "python",
   "pygments_lexer": "ipython3",
   "version": "3.8.5"
  },
  "toc": {
   "base_numbering": 1,
   "nav_menu": {},
   "number_sections": true,
   "sideBar": true,
   "skip_h1_title": true,
   "title_cell": "Table of Contents",
   "title_sidebar": "Contents",
   "toc_cell": false,
   "toc_position": {},
   "toc_section_display": true,
   "toc_window_display": false
  }
 },
 "nbformat": 4,
 "nbformat_minor": 2
}
